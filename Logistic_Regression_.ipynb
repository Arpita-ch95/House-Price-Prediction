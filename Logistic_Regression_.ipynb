{
 "cells": [
  {
   "cell_type": "code",
   "execution_count": null,
   "metadata": {
    "id": "9mVoBTTuBFJ2"
   },
   "outputs": [],
   "source": [
    "# import necessary python packages \n",
    "\n",
    "import pandas as pd\n",
    "import seaborn as sns\n",
    "import requests\n",
    "from bs4 import BeautifulSoup\n",
    "from datetime import date\n",
    "import csv\n",
    "import os\n",
    "import json\n",
    "import urllib.request\n",
    "from datetime import date\n",
    "import matplotlib.pyplot as plt"
   ]
  },
  {
   "cell_type": "markdown",
   "metadata": {
    "id": "RJ4ZOnZPER8P"
   },
   "source": [
    "# Data Acqusition\n",
    "Read the data from the crawled csv file and display the dataframe general view"
   ]
  },
  {
   "cell_type": "code",
   "execution_count": null,
   "metadata": {
    "colab": {
     "base_uri": "https://localhost:8080/"
    },
    "id": "IFGVpEudBFM2",
    "outputId": "401dab01-e8bd-4b4c-ea7c-9ac5bfe42110"
   },
   "outputs": [
    {
     "name": "stdout",
     "output_type": "stream",
     "text": [
      "                                              h_link  ...      lot\n",
      "0  https://www.zillow.com/homedetails/34-Joyce-Ln...  ...  10890.0\n",
      "1  https://www.zillow.com/homedetails/61-Cypress-...  ...  11326.0\n",
      "2  https://www.zillow.com/homedetails/69-Walter-A...  ...  11326.0\n",
      "3  https://www.zillow.com/homedetails/6-Park-Ct-P...  ...  11326.0\n",
      "4  https://www.zillow.com/homedetails/6-Lesley-Ln...  ...  11326.0\n",
      "\n",
      "[5 rows x 19 columns]\n",
      "['h_link' 'num_of_bed' 'num_of_bath' 'square' 'price' 'zestimate' 'year'\n",
      " 'month' 'date' 'Unnamed: 9' 'town' 'state' 'zipcode' 'house_type'\n",
      " 'year_built' 'heating' 'cooling' 'parking' 'lot']\n",
      "(659, 19)\n"
     ]
    }
   ],
   "source": [
    "# Read data from a CSV file into a data frame\n",
    "df = pd.read_csv('zillow.csv')\n",
    "\n",
    "# Display the first five rows of the data frame to examine if it is an individual-level data set\n",
    "print(df.head())\n",
    "\n",
    "# Display the variable list\n",
    "print(df.columns.values)\n",
    "\n",
    "# Display the number of rows and the number of columns in the data set to confirm the portrait shape\n",
    "# The first element of the output is the number of rows and the second is the number of columns \n",
    "print(df.shape)"
   ]
  },
  {
   "cell_type": "code",
   "execution_count": null,
   "metadata": {
    "colab": {
     "base_uri": "https://localhost:8080/"
    },
    "id": "OCPo3F2LtlyR",
    "outputId": "a12b5398-bf98-45ec-dc7d-995d52ed0f17"
   },
   "outputs": [
    {
     "data": {
      "text/plain": [
       "h_link          object\n",
       "num_of_bed     float64\n",
       "num_of_bath    float64\n",
       "square         float64\n",
       "price            int64\n",
       "zestimate      float64\n",
       "year             int64\n",
       "month            int64\n",
       "date             int64\n",
       "Unnamed: 9     float64\n",
       "town            object\n",
       "state           object\n",
       "zipcode          int64\n",
       "house_type      object\n",
       "year_built     float64\n",
       "heating         object\n",
       "cooling         object\n",
       "parking         object\n",
       "lot            float64\n",
       "dtype: object"
      ]
     },
     "execution_count": 42,
     "metadata": {},
     "output_type": "execute_result"
    }
   ],
   "source": [
    "#show all the attributes' data types\n",
    "df.dtypes"
   ]
  },
  {
   "cell_type": "markdown",
   "metadata": {
    "id": "6GM7nYlXEv83"
   },
   "source": [
    "# Data Cleaning\n",
    "Impute missing / NA values and convert the attribute' data type into properly ones"
   ]
  },
  {
   "cell_type": "code",
   "execution_count": null,
   "metadata": {
    "colab": {
     "base_uri": "https://localhost:8080/"
    },
    "id": "Vwx1peE5HfDz",
    "outputId": "75da5249-a5cc-4e8f-dd6a-41d4863703dc"
   },
   "outputs": [
    {
     "data": {
      "text/plain": [
       "h_link           0\n",
       "num_of_bed      29\n",
       "num_of_bath     12\n",
       "square         267\n",
       "price            0\n",
       "zestimate       58\n",
       "year             0\n",
       "month            0\n",
       "date             0\n",
       "Unnamed: 9     659\n",
       "town             0\n",
       "state            0\n",
       "zipcode          0\n",
       "house_type       0\n",
       "year_built       9\n",
       "heating         15\n",
       "cooling         41\n",
       "parking          0\n",
       "lot             20\n",
       "dtype: int64"
      ]
     },
     "execution_count": 43,
     "metadata": {},
     "output_type": "execute_result"
    }
   ],
   "source": [
    "#check total counts of missing values of each attribute\n",
    "df.isnull().sum()"
   ]
  },
  {
   "cell_type": "code",
   "execution_count": null,
   "metadata": {
    "colab": {
     "base_uri": "https://localhost:8080/",
     "height": 354
    },
    "id": "kevpMknuULEU",
    "outputId": "48c50246-ded0-464f-e182-01ad6bd2f29b"
   },
   "outputs": [
    {
     "data": {
      "text/html": [
       "\n",
       "  <div id=\"df-cc6598b8-aa78-4f39-9212-4f3f0bca412b\">\n",
       "    <div class=\"colab-df-container\">\n",
       "      <div>\n",
       "<style scoped>\n",
       "    .dataframe tbody tr th:only-of-type {\n",
       "        vertical-align: middle;\n",
       "    }\n",
       "\n",
       "    .dataframe tbody tr th {\n",
       "        vertical-align: top;\n",
       "    }\n",
       "\n",
       "    .dataframe thead th {\n",
       "        text-align: right;\n",
       "    }\n",
       "</style>\n",
       "<table border=\"1\" class=\"dataframe\">\n",
       "  <thead>\n",
       "    <tr style=\"text-align: right;\">\n",
       "      <th></th>\n",
       "      <th>h_link</th>\n",
       "      <th>num_of_bed</th>\n",
       "      <th>num_of_bath</th>\n",
       "      <th>square</th>\n",
       "      <th>price</th>\n",
       "      <th>zestimate</th>\n",
       "      <th>year</th>\n",
       "      <th>month</th>\n",
       "      <th>date</th>\n",
       "      <th>Unnamed: 9</th>\n",
       "      <th>town</th>\n",
       "      <th>state</th>\n",
       "      <th>zipcode</th>\n",
       "      <th>house_type</th>\n",
       "      <th>year_built</th>\n",
       "      <th>heating</th>\n",
       "      <th>cooling</th>\n",
       "      <th>parking</th>\n",
       "      <th>lot</th>\n",
       "    </tr>\n",
       "  </thead>\n",
       "  <tbody>\n",
       "    <tr>\n",
       "      <th>0</th>\n",
       "      <td>https://www.zillow.com/homedetails/34-Joyce-Ln...</td>\n",
       "      <td>6.0</td>\n",
       "      <td>3.0</td>\n",
       "      <td>3299.0</td>\n",
       "      <td>1080000</td>\n",
       "      <td>1096500.0</td>\n",
       "      <td>2021</td>\n",
       "      <td>10</td>\n",
       "      <td>13</td>\n",
       "      <td>NaN</td>\n",
       "      <td>Woodbury</td>\n",
       "      <td>NY</td>\n",
       "      <td>11797</td>\n",
       "      <td>Single Family Residence</td>\n",
       "      <td>1967.0</td>\n",
       "      <td>Natural Gas</td>\n",
       "      <td>Central Air</td>\n",
       "      <td>2 Attached Garage spaces</td>\n",
       "      <td>10890.0</td>\n",
       "    </tr>\n",
       "    <tr>\n",
       "      <th>1</th>\n",
       "      <td>https://www.zillow.com/homedetails/61-Cypress-...</td>\n",
       "      <td>3.0</td>\n",
       "      <td>2.0</td>\n",
       "      <td>NaN</td>\n",
       "      <td>555000</td>\n",
       "      <td>561800.0</td>\n",
       "      <td>2021</td>\n",
       "      <td>10</td>\n",
       "      <td>21</td>\n",
       "      <td>NaN</td>\n",
       "      <td>Bethpage</td>\n",
       "      <td>NY</td>\n",
       "      <td>11714</td>\n",
       "      <td>Single Family Residence</td>\n",
       "      <td>1956.0</td>\n",
       "      <td>Natural Gas</td>\n",
       "      <td>Central Air</td>\n",
       "      <td>1 Attached Garage space</td>\n",
       "      <td>11326.0</td>\n",
       "    </tr>\n",
       "    <tr>\n",
       "      <th>2</th>\n",
       "      <td>https://www.zillow.com/homedetails/69-Walter-A...</td>\n",
       "      <td>6.0</td>\n",
       "      <td>4.0</td>\n",
       "      <td>2663.0</td>\n",
       "      <td>875000</td>\n",
       "      <td>NaN</td>\n",
       "      <td>2021</td>\n",
       "      <td>11</td>\n",
       "      <td>15</td>\n",
       "      <td>NaN</td>\n",
       "      <td>Hicksville</td>\n",
       "      <td>NY</td>\n",
       "      <td>11801</td>\n",
       "      <td>Single Family Residence</td>\n",
       "      <td>1981.0</td>\n",
       "      <td>Natural Gas</td>\n",
       "      <td>Wall Unit(s)</td>\n",
       "      <td>1 Attached Garage space</td>\n",
       "      <td>11326.0</td>\n",
       "    </tr>\n",
       "    <tr>\n",
       "      <th>3</th>\n",
       "      <td>https://www.zillow.com/homedetails/6-Park-Ct-P...</td>\n",
       "      <td>5.0</td>\n",
       "      <td>3.0</td>\n",
       "      <td>3662.0</td>\n",
       "      <td>1350000</td>\n",
       "      <td>1360000.0</td>\n",
       "      <td>2021</td>\n",
       "      <td>11</td>\n",
       "      <td>10</td>\n",
       "      <td>NaN</td>\n",
       "      <td>Plainview</td>\n",
       "      <td>NY</td>\n",
       "      <td>11803</td>\n",
       "      <td>Single Family Residence</td>\n",
       "      <td>2021.0</td>\n",
       "      <td>Natural Gas</td>\n",
       "      <td>Central Air</td>\n",
       "      <td>2 Attached Garage spaces</td>\n",
       "      <td>11326.0</td>\n",
       "    </tr>\n",
       "    <tr>\n",
       "      <th>4</th>\n",
       "      <td>https://www.zillow.com/homedetails/6-Lesley-Ln...</td>\n",
       "      <td>NaN</td>\n",
       "      <td>1.5</td>\n",
       "      <td>1592.0</td>\n",
       "      <td>560000</td>\n",
       "      <td>641300.0</td>\n",
       "      <td>2021</td>\n",
       "      <td>11</td>\n",
       "      <td>9</td>\n",
       "      <td>NaN</td>\n",
       "      <td>Bethpage</td>\n",
       "      <td>NY</td>\n",
       "      <td>11804</td>\n",
       "      <td>SingleFamily</td>\n",
       "      <td>1957.0</td>\n",
       "      <td>Other</td>\n",
       "      <td>Central</td>\n",
       "      <td>Garage - Attached</td>\n",
       "      <td>11326.0</td>\n",
       "    </tr>\n",
       "  </tbody>\n",
       "</table>\n",
       "</div>\n",
       "      <button class=\"colab-df-convert\" onclick=\"convertToInteractive('df-cc6598b8-aa78-4f39-9212-4f3f0bca412b')\"\n",
       "              title=\"Convert this dataframe to an interactive table.\"\n",
       "              style=\"display:none;\">\n",
       "        \n",
       "  <svg xmlns=\"http://www.w3.org/2000/svg\" height=\"24px\"viewBox=\"0 0 24 24\"\n",
       "       width=\"24px\">\n",
       "    <path d=\"M0 0h24v24H0V0z\" fill=\"none\"/>\n",
       "    <path d=\"M18.56 5.44l.94 2.06.94-2.06 2.06-.94-2.06-.94-.94-2.06-.94 2.06-2.06.94zm-11 1L8.5 8.5l.94-2.06 2.06-.94-2.06-.94L8.5 2.5l-.94 2.06-2.06.94zm10 10l.94 2.06.94-2.06 2.06-.94-2.06-.94-.94-2.06-.94 2.06-2.06.94z\"/><path d=\"M17.41 7.96l-1.37-1.37c-.4-.4-.92-.59-1.43-.59-.52 0-1.04.2-1.43.59L10.3 9.45l-7.72 7.72c-.78.78-.78 2.05 0 2.83L4 21.41c.39.39.9.59 1.41.59.51 0 1.02-.2 1.41-.59l7.78-7.78 2.81-2.81c.8-.78.8-2.07 0-2.86zM5.41 20L4 18.59l7.72-7.72 1.47 1.35L5.41 20z\"/>\n",
       "  </svg>\n",
       "      </button>\n",
       "      \n",
       "  <style>\n",
       "    .colab-df-container {\n",
       "      display:flex;\n",
       "      flex-wrap:wrap;\n",
       "      gap: 12px;\n",
       "    }\n",
       "\n",
       "    .colab-df-convert {\n",
       "      background-color: #E8F0FE;\n",
       "      border: none;\n",
       "      border-radius: 50%;\n",
       "      cursor: pointer;\n",
       "      display: none;\n",
       "      fill: #1967D2;\n",
       "      height: 32px;\n",
       "      padding: 0 0 0 0;\n",
       "      width: 32px;\n",
       "    }\n",
       "\n",
       "    .colab-df-convert:hover {\n",
       "      background-color: #E2EBFA;\n",
       "      box-shadow: 0px 1px 2px rgba(60, 64, 67, 0.3), 0px 1px 3px 1px rgba(60, 64, 67, 0.15);\n",
       "      fill: #174EA6;\n",
       "    }\n",
       "\n",
       "    [theme=dark] .colab-df-convert {\n",
       "      background-color: #3B4455;\n",
       "      fill: #D2E3FC;\n",
       "    }\n",
       "\n",
       "    [theme=dark] .colab-df-convert:hover {\n",
       "      background-color: #434B5C;\n",
       "      box-shadow: 0px 1px 3px 1px rgba(0, 0, 0, 0.15);\n",
       "      filter: drop-shadow(0px 1px 2px rgba(0, 0, 0, 0.3));\n",
       "      fill: #FFFFFF;\n",
       "    }\n",
       "  </style>\n",
       "\n",
       "      <script>\n",
       "        const buttonEl =\n",
       "          document.querySelector('#df-cc6598b8-aa78-4f39-9212-4f3f0bca412b button.colab-df-convert');\n",
       "        buttonEl.style.display =\n",
       "          google.colab.kernel.accessAllowed ? 'block' : 'none';\n",
       "\n",
       "        async function convertToInteractive(key) {\n",
       "          const element = document.querySelector('#df-cc6598b8-aa78-4f39-9212-4f3f0bca412b');\n",
       "          const dataTable =\n",
       "            await google.colab.kernel.invokeFunction('convertToInteractive',\n",
       "                                                     [key], {});\n",
       "          if (!dataTable) return;\n",
       "\n",
       "          const docLinkHtml = 'Like what you see? Visit the ' +\n",
       "            '<a target=\"_blank\" href=https://colab.research.google.com/notebooks/data_table.ipynb>data table notebook</a>'\n",
       "            + ' to learn more about interactive tables.';\n",
       "          element.innerHTML = '';\n",
       "          dataTable['output_type'] = 'display_data';\n",
       "          await google.colab.output.renderOutput(dataTable, element);\n",
       "          const docLink = document.createElement('div');\n",
       "          docLink.innerHTML = docLinkHtml;\n",
       "          element.appendChild(docLink);\n",
       "        }\n",
       "      </script>\n",
       "    </div>\n",
       "  </div>\n",
       "  "
      ],
      "text/plain": [
       "                                              h_link  ...      lot\n",
       "0  https://www.zillow.com/homedetails/34-Joyce-Ln...  ...  10890.0\n",
       "1  https://www.zillow.com/homedetails/61-Cypress-...  ...  11326.0\n",
       "2  https://www.zillow.com/homedetails/69-Walter-A...  ...  11326.0\n",
       "3  https://www.zillow.com/homedetails/6-Park-Ct-P...  ...  11326.0\n",
       "4  https://www.zillow.com/homedetails/6-Lesley-Ln...  ...  11326.0\n",
       "\n",
       "[5 rows x 19 columns]"
      ]
     },
     "execution_count": 44,
     "metadata": {},
     "output_type": "execute_result"
    }
   ],
   "source": [
    "# Drop the observations that contain missing dependent variable values\n",
    "# Placeholder variable is DV\n",
    "DV = 'price'\n",
    "df1 = df.copy()\n",
    "df1 = df1.dropna(subset=[DV])\n",
    "df1.head()"
   ]
  },
  {
   "cell_type": "code",
   "execution_count": null,
   "metadata": {
    "id": "Ev6_efjFhpcK"
   },
   "outputs": [],
   "source": [
    "df2 = df1.copy()"
   ]
  },
  {
   "cell_type": "code",
   "execution_count": null,
   "metadata": {
    "id": "mr8XgdJng8eb"
   },
   "outputs": [],
   "source": [
    "#df2['price'] = df2['price'].astype(str).str.replace('$', '').str.replace(',', '')\n",
    "#df2['price'] = pd.to_numeric(df2['price'], errors='coerce').fillna(df2['price'].median(), inplace=True)\n",
    "df2['price'] = df2['price'].astype('int64')"
   ]
  },
  {
   "cell_type": "code",
   "execution_count": null,
   "metadata": {
    "id": "pHmmjCaSg-hK"
   },
   "outputs": [],
   "source": [
    "#df2['year_built'] = df2['year_built'].str.replace('Build in ', '')\n",
    "df2['year_built'] = pd.to_numeric(df2['year_built'], errors='coerce').fillna(0).astype(int)"
   ]
  },
  {
   "cell_type": "code",
   "execution_count": null,
   "metadata": {
    "id": "1x4mog31ULHq"
   },
   "outputs": [],
   "source": [
    "#df2['square'] = df2['square'].str.replace(',', '').str.replace('sqft', '')\n",
    "df2['square'] = pd.to_numeric(df2['square'], errors='coerce').fillna(0).astype(int)"
   ]
  },
  {
   "cell_type": "code",
   "execution_count": null,
   "metadata": {
    "id": "spgUQA_hj1_o"
   },
   "outputs": [],
   "source": [
    "#df2['num_of_bed'] = df1['num_of_bed'].str.replace('bd', '')\n",
    "df2['num_of_bed'] = pd.to_numeric(df2['num_of_bed'], errors='coerce').fillna(0).astype(int)"
   ]
  },
  {
   "cell_type": "code",
   "execution_count": null,
   "metadata": {
    "id": "7LjYyGd1j2C7"
   },
   "outputs": [],
   "source": [
    "#df2['num_of_bath'] = df1['num_of_bath'].str.replace('ba', '')\n",
    "df2['num_of_bath'] = pd.to_numeric(df2['num_of_bath'], errors='coerce').fillna(0).astype(int)"
   ]
  },
  {
   "cell_type": "code",
   "execution_count": null,
   "metadata": {
    "id": "2CnyQJldj2Gj"
   },
   "outputs": [],
   "source": [
    "#df2['lot'] = df1['lot'].str.replace(',', '').str.replace('sqft', '')\n",
    "df2['lot'] = pd.to_numeric(df2['lot'], errors='coerce').fillna(0).astype(int)"
   ]
  },
  {
   "cell_type": "code",
   "execution_count": null,
   "metadata": {
    "id": "Ns8n4dnjkxIj"
   },
   "outputs": [],
   "source": [
    "\n",
    "#df2['zestimate'] = df2['zestimate'].str.replace('$', '').str.replace(',','')\n",
    "df2['zestimate'] = pd.to_numeric(df2['zestimate'], errors='coerce').fillna(0).astype(int)"
   ]
  },
  {
   "cell_type": "code",
   "execution_count": null,
   "metadata": {
    "colab": {
     "base_uri": "https://localhost:8080/",
     "height": 354
    },
    "id": "xHVG9sBphPui",
    "outputId": "49c01646-d48a-41d3-e499-fb698396a0b2"
   },
   "outputs": [
    {
     "data": {
      "text/html": [
       "\n",
       "  <div id=\"df-e86b4b6c-fb4b-4565-a4d6-1d2b1305c8be\">\n",
       "    <div class=\"colab-df-container\">\n",
       "      <div>\n",
       "<style scoped>\n",
       "    .dataframe tbody tr th:only-of-type {\n",
       "        vertical-align: middle;\n",
       "    }\n",
       "\n",
       "    .dataframe tbody tr th {\n",
       "        vertical-align: top;\n",
       "    }\n",
       "\n",
       "    .dataframe thead th {\n",
       "        text-align: right;\n",
       "    }\n",
       "</style>\n",
       "<table border=\"1\" class=\"dataframe\">\n",
       "  <thead>\n",
       "    <tr style=\"text-align: right;\">\n",
       "      <th></th>\n",
       "      <th>h_link</th>\n",
       "      <th>num_of_bed</th>\n",
       "      <th>num_of_bath</th>\n",
       "      <th>square</th>\n",
       "      <th>price</th>\n",
       "      <th>zestimate</th>\n",
       "      <th>year</th>\n",
       "      <th>month</th>\n",
       "      <th>date</th>\n",
       "      <th>Unnamed: 9</th>\n",
       "      <th>town</th>\n",
       "      <th>state</th>\n",
       "      <th>zipcode</th>\n",
       "      <th>house_type</th>\n",
       "      <th>year_built</th>\n",
       "      <th>heating</th>\n",
       "      <th>cooling</th>\n",
       "      <th>parking</th>\n",
       "      <th>lot</th>\n",
       "    </tr>\n",
       "  </thead>\n",
       "  <tbody>\n",
       "    <tr>\n",
       "      <th>0</th>\n",
       "      <td>https://www.zillow.com/homedetails/34-Joyce-Ln...</td>\n",
       "      <td>6</td>\n",
       "      <td>3</td>\n",
       "      <td>3299</td>\n",
       "      <td>1080000</td>\n",
       "      <td>1096500</td>\n",
       "      <td>2021</td>\n",
       "      <td>10</td>\n",
       "      <td>13</td>\n",
       "      <td>NaN</td>\n",
       "      <td>Woodbury</td>\n",
       "      <td>NY</td>\n",
       "      <td>11797</td>\n",
       "      <td>Single Family Residence</td>\n",
       "      <td>1967</td>\n",
       "      <td>Natural Gas</td>\n",
       "      <td>Central Air</td>\n",
       "      <td>2 Attached Garage spaces</td>\n",
       "      <td>10890</td>\n",
       "    </tr>\n",
       "    <tr>\n",
       "      <th>1</th>\n",
       "      <td>https://www.zillow.com/homedetails/61-Cypress-...</td>\n",
       "      <td>3</td>\n",
       "      <td>2</td>\n",
       "      <td>0</td>\n",
       "      <td>555000</td>\n",
       "      <td>561800</td>\n",
       "      <td>2021</td>\n",
       "      <td>10</td>\n",
       "      <td>21</td>\n",
       "      <td>NaN</td>\n",
       "      <td>Bethpage</td>\n",
       "      <td>NY</td>\n",
       "      <td>11714</td>\n",
       "      <td>Single Family Residence</td>\n",
       "      <td>1956</td>\n",
       "      <td>Natural Gas</td>\n",
       "      <td>Central Air</td>\n",
       "      <td>1 Attached Garage space</td>\n",
       "      <td>11326</td>\n",
       "    </tr>\n",
       "    <tr>\n",
       "      <th>2</th>\n",
       "      <td>https://www.zillow.com/homedetails/69-Walter-A...</td>\n",
       "      <td>6</td>\n",
       "      <td>4</td>\n",
       "      <td>2663</td>\n",
       "      <td>875000</td>\n",
       "      <td>0</td>\n",
       "      <td>2021</td>\n",
       "      <td>11</td>\n",
       "      <td>15</td>\n",
       "      <td>NaN</td>\n",
       "      <td>Hicksville</td>\n",
       "      <td>NY</td>\n",
       "      <td>11801</td>\n",
       "      <td>Single Family Residence</td>\n",
       "      <td>1981</td>\n",
       "      <td>Natural Gas</td>\n",
       "      <td>Wall Unit(s)</td>\n",
       "      <td>1 Attached Garage space</td>\n",
       "      <td>11326</td>\n",
       "    </tr>\n",
       "    <tr>\n",
       "      <th>3</th>\n",
       "      <td>https://www.zillow.com/homedetails/6-Park-Ct-P...</td>\n",
       "      <td>5</td>\n",
       "      <td>3</td>\n",
       "      <td>3662</td>\n",
       "      <td>1350000</td>\n",
       "      <td>1360000</td>\n",
       "      <td>2021</td>\n",
       "      <td>11</td>\n",
       "      <td>10</td>\n",
       "      <td>NaN</td>\n",
       "      <td>Plainview</td>\n",
       "      <td>NY</td>\n",
       "      <td>11803</td>\n",
       "      <td>Single Family Residence</td>\n",
       "      <td>2021</td>\n",
       "      <td>Natural Gas</td>\n",
       "      <td>Central Air</td>\n",
       "      <td>2 Attached Garage spaces</td>\n",
       "      <td>11326</td>\n",
       "    </tr>\n",
       "    <tr>\n",
       "      <th>4</th>\n",
       "      <td>https://www.zillow.com/homedetails/6-Lesley-Ln...</td>\n",
       "      <td>0</td>\n",
       "      <td>1</td>\n",
       "      <td>1592</td>\n",
       "      <td>560000</td>\n",
       "      <td>641300</td>\n",
       "      <td>2021</td>\n",
       "      <td>11</td>\n",
       "      <td>9</td>\n",
       "      <td>NaN</td>\n",
       "      <td>Bethpage</td>\n",
       "      <td>NY</td>\n",
       "      <td>11804</td>\n",
       "      <td>SingleFamily</td>\n",
       "      <td>1957</td>\n",
       "      <td>Other</td>\n",
       "      <td>Central</td>\n",
       "      <td>Garage - Attached</td>\n",
       "      <td>11326</td>\n",
       "    </tr>\n",
       "  </tbody>\n",
       "</table>\n",
       "</div>\n",
       "      <button class=\"colab-df-convert\" onclick=\"convertToInteractive('df-e86b4b6c-fb4b-4565-a4d6-1d2b1305c8be')\"\n",
       "              title=\"Convert this dataframe to an interactive table.\"\n",
       "              style=\"display:none;\">\n",
       "        \n",
       "  <svg xmlns=\"http://www.w3.org/2000/svg\" height=\"24px\"viewBox=\"0 0 24 24\"\n",
       "       width=\"24px\">\n",
       "    <path d=\"M0 0h24v24H0V0z\" fill=\"none\"/>\n",
       "    <path d=\"M18.56 5.44l.94 2.06.94-2.06 2.06-.94-2.06-.94-.94-2.06-.94 2.06-2.06.94zm-11 1L8.5 8.5l.94-2.06 2.06-.94-2.06-.94L8.5 2.5l-.94 2.06-2.06.94zm10 10l.94 2.06.94-2.06 2.06-.94-2.06-.94-.94-2.06-.94 2.06-2.06.94z\"/><path d=\"M17.41 7.96l-1.37-1.37c-.4-.4-.92-.59-1.43-.59-.52 0-1.04.2-1.43.59L10.3 9.45l-7.72 7.72c-.78.78-.78 2.05 0 2.83L4 21.41c.39.39.9.59 1.41.59.51 0 1.02-.2 1.41-.59l7.78-7.78 2.81-2.81c.8-.78.8-2.07 0-2.86zM5.41 20L4 18.59l7.72-7.72 1.47 1.35L5.41 20z\"/>\n",
       "  </svg>\n",
       "      </button>\n",
       "      \n",
       "  <style>\n",
       "    .colab-df-container {\n",
       "      display:flex;\n",
       "      flex-wrap:wrap;\n",
       "      gap: 12px;\n",
       "    }\n",
       "\n",
       "    .colab-df-convert {\n",
       "      background-color: #E8F0FE;\n",
       "      border: none;\n",
       "      border-radius: 50%;\n",
       "      cursor: pointer;\n",
       "      display: none;\n",
       "      fill: #1967D2;\n",
       "      height: 32px;\n",
       "      padding: 0 0 0 0;\n",
       "      width: 32px;\n",
       "    }\n",
       "\n",
       "    .colab-df-convert:hover {\n",
       "      background-color: #E2EBFA;\n",
       "      box-shadow: 0px 1px 2px rgba(60, 64, 67, 0.3), 0px 1px 3px 1px rgba(60, 64, 67, 0.15);\n",
       "      fill: #174EA6;\n",
       "    }\n",
       "\n",
       "    [theme=dark] .colab-df-convert {\n",
       "      background-color: #3B4455;\n",
       "      fill: #D2E3FC;\n",
       "    }\n",
       "\n",
       "    [theme=dark] .colab-df-convert:hover {\n",
       "      background-color: #434B5C;\n",
       "      box-shadow: 0px 1px 3px 1px rgba(0, 0, 0, 0.15);\n",
       "      filter: drop-shadow(0px 1px 2px rgba(0, 0, 0, 0.3));\n",
       "      fill: #FFFFFF;\n",
       "    }\n",
       "  </style>\n",
       "\n",
       "      <script>\n",
       "        const buttonEl =\n",
       "          document.querySelector('#df-e86b4b6c-fb4b-4565-a4d6-1d2b1305c8be button.colab-df-convert');\n",
       "        buttonEl.style.display =\n",
       "          google.colab.kernel.accessAllowed ? 'block' : 'none';\n",
       "\n",
       "        async function convertToInteractive(key) {\n",
       "          const element = document.querySelector('#df-e86b4b6c-fb4b-4565-a4d6-1d2b1305c8be');\n",
       "          const dataTable =\n",
       "            await google.colab.kernel.invokeFunction('convertToInteractive',\n",
       "                                                     [key], {});\n",
       "          if (!dataTable) return;\n",
       "\n",
       "          const docLinkHtml = 'Like what you see? Visit the ' +\n",
       "            '<a target=\"_blank\" href=https://colab.research.google.com/notebooks/data_table.ipynb>data table notebook</a>'\n",
       "            + ' to learn more about interactive tables.';\n",
       "          element.innerHTML = '';\n",
       "          dataTable['output_type'] = 'display_data';\n",
       "          await google.colab.output.renderOutput(dataTable, element);\n",
       "          const docLink = document.createElement('div');\n",
       "          docLink.innerHTML = docLinkHtml;\n",
       "          element.appendChild(docLink);\n",
       "        }\n",
       "      </script>\n",
       "    </div>\n",
       "  </div>\n",
       "  "
      ],
      "text/plain": [
       "                                              h_link  ...    lot\n",
       "0  https://www.zillow.com/homedetails/34-Joyce-Ln...  ...  10890\n",
       "1  https://www.zillow.com/homedetails/61-Cypress-...  ...  11326\n",
       "2  https://www.zillow.com/homedetails/69-Walter-A...  ...  11326\n",
       "3  https://www.zillow.com/homedetails/6-Park-Ct-P...  ...  11326\n",
       "4  https://www.zillow.com/homedetails/6-Lesley-Ln...  ...  11326\n",
       "\n",
       "[5 rows x 19 columns]"
      ]
     },
     "execution_count": 53,
     "metadata": {},
     "output_type": "execute_result"
    }
   ],
   "source": [
    "df2.head()"
   ]
  },
  {
   "cell_type": "code",
   "execution_count": null,
   "metadata": {
    "colab": {
     "base_uri": "https://localhost:8080/"
    },
    "id": "aBLl1UB9nsSK",
    "outputId": "464d1691-7944-4509-de8a-e801dfdb97ce"
   },
   "outputs": [
    {
     "data": {
      "text/plain": [
       "h_link          object\n",
       "num_of_bed       int64\n",
       "num_of_bath      int64\n",
       "square           int64\n",
       "price            int64\n",
       "zestimate        int64\n",
       "year             int64\n",
       "month            int64\n",
       "date             int64\n",
       "Unnamed: 9     float64\n",
       "town            object\n",
       "state           object\n",
       "zipcode          int64\n",
       "house_type      object\n",
       "year_built       int64\n",
       "heating         object\n",
       "cooling         object\n",
       "parking         object\n",
       "lot              int64\n",
       "dtype: object"
      ]
     },
     "execution_count": 54,
     "metadata": {},
     "output_type": "execute_result"
    }
   ],
   "source": [
    "df2.dtypes"
   ]
  },
  {
   "cell_type": "code",
   "execution_count": null,
   "metadata": {
    "id": "sh2eLJKlm2yI"
   },
   "outputs": [],
   "source": [
    "#seperate numerical variable and categorical variabl\n",
    "nvar_list = ['num_of_bed', 'num_of_bath', 'square',  'price', 'zestimate', 'year_built', 'lot' ]\n",
    "#cvar_list = ['h_link', 'sold_type', 'month', 'date','year', 'address', 'town', 'state', 'zipcode',  'house_type', 'heating', 'cooling',  'parking' ]\n"
   ]
  },
  {
   "cell_type": "markdown",
   "metadata": {
    "id": "aUm5gx-bFUwB"
   },
   "source": [
    "# Data Exploration\n",
    "Explore the relationships among independent varialbes and dependent variable"
   ]
  },
  {
   "cell_type": "code",
   "execution_count": null,
   "metadata": {
    "colab": {
     "base_uri": "https://localhost:8080/",
     "height": 307
    },
    "id": "anArar-6BFP0",
    "outputId": "1750b682-dd29-45f0-f648-e7a3ddaac085"
   },
   "outputs": [
    {
     "data": {
      "text/plain": [
       "<matplotlib.axes._subplots.AxesSubplot at 0x7f6dd0f18650>"
      ]
     },
     "execution_count": 56,
     "metadata": {},
     "output_type": "execute_result"
    },
    {
     "data": {
      "image/png": "[encoded data removed]",
      "text/plain": [
       "<Figure size 432x288 with 1 Axes>"
      ]
     },
     "metadata": {
      "needs_background": "light"
     },
     "output_type": "display_data"
    }
   ],
   "source": [
    "# Generate a scatterplot\n",
    "\n",
    "# Placeholder variables: x_var, y_var. \n",
    "# (MODIFY THIS PART OF THE CODE FOR A DIFFERENT PROBLEM)\n",
    "x_var = [ 'zestimate']\n",
    "y_var = [ 'price']\n",
    "\n",
    "# Draw the scatterplot\n",
    "df2.plot.scatter(x=x_var, y=y_var, color = ['red'], legend=False)"
   ]
  },
  {
   "cell_type": "code",
   "execution_count": null,
   "metadata": {
    "colab": {
     "base_uri": "https://localhost:8080/",
     "height": 307
    },
    "id": "yn95s20jWS3v",
    "outputId": "adfc3615-25b0-4463-aee1-e2721e15f574"
   },
   "outputs": [
    {
     "data": {
      "text/plain": [
       "<matplotlib.axes._subplots.AxesSubplot at 0x7f6dd4d1e650>"
      ]
     },
     "execution_count": 57,
     "metadata": {},
     "output_type": "execute_result"
    },
    {
     "data": {
      "image/png": "[encoded data removed]",
      "text/plain": [
       "<Figure size 432x288 with 1 Axes>"
      ]
     },
     "metadata": {
      "needs_background": "light"
     },
     "output_type": "display_data"
    }
   ],
   "source": [
    "# Generate a scatterplot based on square and Price\n",
    "\n",
    "x_var = [ 'square']\n",
    "y_var = [ 'price']\n",
    "\n",
    "# Draw the scatterplot\n",
    "df2.plot.scatter(x=x_var, y=y_var, color = ['blue'], legend=False)"
   ]
  },
  {
   "cell_type": "code",
   "execution_count": null,
   "metadata": {
    "id": "eg3AruxVo6Np"
   },
   "outputs": [],
   "source": [
    "df3 = df2.copy()\n",
    "df3 = df3[nvar_list]"
   ]
  },
  {
   "cell_type": "code",
   "execution_count": null,
   "metadata": {
    "colab": {
     "base_uri": "https://localhost:8080/",
     "height": 515
    },
    "id": "Ut5snAeYBFSW",
    "outputId": "0641eeac-e035-462c-9e95-5b2207f1a144"
   },
   "outputs": [
    {
     "name": "stdout",
     "output_type": "stream",
     "text": [
      "             num_of_bed  num_of_bath    square  ...  zestimate  year_built       lot\n",
      "num_of_bed     1.000000     0.649503  0.367229  ...   0.300562    0.364596  0.278794\n",
      "num_of_bath    0.649503     1.000000  0.456109  ...   0.415384    0.332559  0.406063\n",
      "square         0.367229     0.456109  1.000000  ...   0.382397    0.158995  0.415581\n",
      "price          0.461923     0.598618  0.567370  ...   0.455897   -0.120319  0.623178\n",
      "zestimate      0.300562     0.415384  0.382397  ...   1.000000    0.108764  0.331558\n",
      "year_built     0.364596     0.332559  0.158995  ...   0.108764    1.000000 -0.066472\n",
      "lot            0.278794     0.406063  0.415581  ...   0.331558   -0.066472  1.000000\n",
      "\n",
      "[7 rows x 7 columns]\n"
     ]
    },
    {
     "data": {
      "text/plain": [
       "<matplotlib.axes._subplots.AxesSubplot at 0x7f6dd0e4ba50>"
      ]
     },
     "execution_count": 59,
     "metadata": {},
     "output_type": "execute_result"
    },
    {
     "data": {
      "image/png": "[encoded data removed]",
      "text/plain": [
       "<Figure size 432x288 with 2 Axes>"
      ]
     },
     "metadata": {
      "needs_background": "light"
     },
     "output_type": "display_data"
    }
   ],
   "source": [
    "# Draw a heat map for all the numerical variables in the data frame\n",
    "\n",
    "# Placeholder variables: df4heatmaps\n",
    "df4heatmaps = df3\n",
    "\n",
    "# Compute the correlation matrix \n",
    "corr = df4heatmaps.corr()\n",
    "# Print the correlation matrix\n",
    "print(corr)\n",
    "# Draw the heatmap\n",
    "sns.heatmap(corr, xticklabels=corr.columns, yticklabels=corr.columns)"
   ]
  },
  {
   "cell_type": "markdown",
   "metadata": {
    "id": "TjJ1N8yGVmGy"
   },
   "source": [
    "from the above heatmap of the correlation matrix , we can figure out that DaysOnZillow and viewN are highly correlated, so we may decide only use one of them when we build up the models in the future "
   ]
  },
  {
   "cell_type": "markdown",
   "metadata": {
    "id": "oHtG8RysFzqp"
   },
   "source": [
    "# Association Transformation"
   ]
  },
  {
   "cell_type": "code",
   "execution_count": null,
   "metadata": {
    "id": "_NFQPi79qLdR"
   },
   "outputs": [],
   "source": [
    "# Set the datatype for the variables in the cvar_list to be categorical in Python\n",
    "# Set the datatype for the variables in the nvar_list to be numerical in Python \n",
    "\n",
    "#drop variables\n",
    "drop_list = ['h_link', 'zipcode',  'month', 'date','year', 'state']\n",
    "df4 = df2.copy()\n",
    "df4 = df4.drop(columns = drop_list)"
   ]
  },
  {
   "cell_type": "code",
   "execution_count": null,
   "metadata": {
    "id": "8Cm57e3dEvo3"
   },
   "outputs": [],
   "source": [
    "import numpy as np\n",
    "df5 = df4.copy()"
   ]
  },
  {
   "cell_type": "code",
   "execution_count": null,
   "metadata": {
    "id": "VPbZies3EyIM"
   },
   "outputs": [],
   "source": [
    "cvar_list = [ 'house_type', 'town', 'heating', 'cooling',  'parking']\n",
    "df5 = df4[cvar_list].copy()"
   ]
  },
  {
   "cell_type": "code",
   "execution_count": null,
   "metadata": {
    "id": "u3RWzjLqdwY0"
   },
   "outputs": [],
   "source": [
    "#define conditions\n",
    "conditions = [df4['price'] > df4['zestimate'], \n",
    "              df4['price'] < df4['zestimate']]\n",
    "\n",
    "#define choices\n",
    "choices = ['1', '0']\n",
    "\n",
    "#create new column in DataFrame that displays results of comparisons\n",
    "df5['class'] = np.select(conditions, choices, default='0')\n",
    "df5['class'] = df5['class'].astype('category')"
   ]
  },
  {
   "cell_type": "code",
   "execution_count": null,
   "metadata": {
    "id": "_pdg7NRUE4-T"
   },
   "outputs": [],
   "source": [
    "# Convert the categorical variables into dummies (Step 1 of dummy coding)\n",
    "# prefix_sep is the sympol used to create the dummy variable names.\n",
    "df6 = df5.copy()\n",
    "df6 = pd.get_dummies(df6, prefix_sep='_')"
   ]
  },
  {
   "cell_type": "code",
   "execution_count": null,
   "metadata": {
    "id": "_rvI1e6RE5B4"
   },
   "outputs": [],
   "source": [
    "df6 = df6.astype('category')"
   ]
  },
  {
   "cell_type": "code",
   "execution_count": null,
   "metadata": {
    "colab": {
     "base_uri": "https://localhost:8080/"
    },
    "id": "RPdC0FboE5Ev",
    "outputId": "93a19392-9127-4bd8-96ce-8bd89bbdc413"
   },
   "outputs": [
    {
     "data": {
      "text/plain": [
       "house_type_Multi Family               category\n",
       "house_type_MultiFamily                category\n",
       "house_type_Single Family Residence    category\n",
       "house_type_SingleFamily               category\n",
       "house_type_Townhouse                  category\n",
       "house_type_Unknown                    category\n",
       "town_Bethpage                         category\n",
       "town_Hicksville                       category\n",
       "town_Huntington                       category\n",
       "town_Jericho                          category\n",
       "town_Melville                         category\n",
       "town_Plainview                        category\n",
       "town_Syosset                          category\n",
       "town_Woodbury                         category\n",
       "heating_Baseboard                     category\n",
       "heating_Electric                      category\n",
       "heating_Forced air                    category\n",
       "heating_Hot Water                     category\n",
       "heating_Natural Gas                   category\n",
       "heating_Oil                           category\n",
       "heating_Other                         category\n",
       "heating_Propane                       category\n",
       "cooling_Central                       category\n",
       "cooling_Central Air                   category\n",
       "cooling_Ductless                      category\n",
       "cooling_None                          category\n",
       "cooling_Other                         category\n",
       "cooling_Wall                          category\n",
       "cooling_Wall Unit(s)                  category\n",
       "cooling_Window Unit(s)                category\n",
       "cooling_Zoned                         category\n",
       "parking_0 spaces                      category\n",
       "parking_1 Attached Garage space       category\n",
       "parking_1 Garage space                category\n",
       "parking_1 Parking space               category\n",
       "parking_2 Attached Garage spaces      category\n",
       "parking_2 Garage spaces               category\n",
       "parking_2 Parking spaces              category\n",
       "parking_3 Attached Garage spaces      category\n",
       "parking_3 Garage spaces               category\n",
       "parking_3 Parking spaces              category\n",
       "parking_4 Attached Garage spaces      category\n",
       "parking_4 Garage spaces               category\n",
       "parking_4 Parking spaces              category\n",
       "parking_5 Attached Garage spaces      category\n",
       "parking_Driveway                      category\n",
       "parking_Garage                        category\n",
       "parking_Garage - Attached             category\n",
       "parking_Garage - Detached             category\n",
       "parking_None                          category\n",
       "parking_Private                       category\n",
       "parking_Shared Driveway               category\n",
       "class_0                               category\n",
       "class_1                               category\n",
       "dtype: object"
      ]
     },
     "execution_count": 66,
     "metadata": {},
     "output_type": "execute_result"
    }
   ],
   "source": [
    "df6.dtypes"
   ]
  },
  {
   "cell_type": "code",
   "execution_count": null,
   "metadata": {
    "id": "Zw_YPbwxE5H5"
   },
   "outputs": [],
   "source": [
    "df7 = df6.copy()"
   ]
  },
  {
   "cell_type": "code",
   "execution_count": null,
   "metadata": {
    "colab": {
     "base_uri": "https://localhost:8080/"
    },
    "id": "YhEpoIHWE5KU",
    "outputId": "a2fa7b68-32d5-4c5c-e893-10093a8a7087"
   },
   "outputs": [
    {
     "name": "stdout",
     "output_type": "stream",
     "text": [
      "['house_type_Multi Family' 'house_type_MultiFamily'\n",
      " 'house_type_Single Family Residence' 'house_type_SingleFamily'\n",
      " 'house_type_Townhouse' 'house_type_Unknown' 'town_Bethpage'\n",
      " 'town_Hicksville' 'town_Huntington' 'town_Jericho' 'town_Melville'\n",
      " 'town_Plainview' 'town_Syosset' 'town_Woodbury' 'heating_Baseboard'\n",
      " 'heating_Electric' 'heating_Forced air' 'heating_Hot Water'\n",
      " 'heating_Natural Gas' 'heating_Oil' 'heating_Other' 'heating_Propane'\n",
      " 'cooling_Central' 'cooling_Central Air' 'cooling_Ductless' 'cooling_None'\n",
      " 'cooling_Other' 'cooling_Wall' 'cooling_Wall Unit(s)'\n",
      " 'cooling_Window Unit(s)' 'cooling_Zoned' 'parking_0 spaces'\n",
      " 'parking_1 Attached Garage space' 'parking_1 Garage space'\n",
      " 'parking_1 Parking space' 'parking_2 Attached Garage spaces'\n",
      " 'parking_2 Garage spaces' 'parking_2 Parking spaces'\n",
      " 'parking_3 Attached Garage spaces' 'parking_3 Garage spaces'\n",
      " 'parking_3 Parking spaces' 'parking_4 Attached Garage spaces'\n",
      " 'parking_4 Garage spaces' 'parking_4 Parking spaces'\n",
      " 'parking_5 Attached Garage spaces' 'parking_Driveway' 'parking_Garage'\n",
      " 'parking_Garage - Attached' 'parking_Garage - Detached' 'parking_None'\n",
      " 'parking_Private' 'parking_Shared Driveway' 'class_0' 'class_1']\n"
     ]
    }
   ],
   "source": [
    "# Get the remaining variable list after the variable transformation\n",
    "print(df7.columns.values)"
   ]
  },
  {
   "cell_type": "code",
   "execution_count": null,
   "metadata": {
    "id": "ismzZ7QlqW6A"
   },
   "outputs": [],
   "source": [
    "# Remove the redundant dummies (Step 2 of dummy coding)\n",
    "# Placeholder variable: rdummies\n",
    "rdummies = [ 'house_type_Multi Family', 'town_Bethpage', 'heating_Baseboard', 'cooling_Central', 'parking_0 spaces', 'class_1']\n",
    "df8 = df7.copy()\n",
    "df8 = df7.drop(columns=rdummies)"
   ]
  },
  {
   "cell_type": "markdown",
   "metadata": {
    "id": "S98-Eu94GDFg"
   },
   "source": [
    "# Data Partition\n",
    "Split the dataset into training part and testing part"
   ]
  },
  {
   "cell_type": "code",
   "execution_count": null,
   "metadata": {
    "colab": {
     "base_uri": "https://localhost:8080/"
    },
    "id": "rMnrfMbfBFcd",
    "outputId": "3d84d2d3-335f-46d0-a8e1-c7c6e67dc8a9"
   },
   "outputs": [
    {
     "name": "stdout",
     "output_type": "stream",
     "text": [
      "    house_type_MultiFamily  ... class_0\n",
      "382                      0  ...       1\n",
      "441                      0  ...       1\n",
      "421                      0  ...       1\n",
      "363                      0  ...       1\n",
      "536                      0  ...       1\n",
      "..                     ...  ...     ...\n",
      "144                      0  ...       0\n",
      "645                      0  ...       0\n",
      "72                       0  ...       0\n",
      "235                      0  ...       1\n",
      "37                       0  ...       0\n",
      "\n",
      "[527 rows x 48 columns]\n"
     ]
    }
   ],
   "source": [
    "\n",
    "\n",
    "# Required package: scikit-learn. Package name in Python: sklearn\n",
    "# Required subpackage: model_selection. Required function name: train_test_split\n",
    "from sklearn.model_selection import train_test_split\n",
    "\n",
    "# Placeholder variables: df4partition, testpart_size\n",
    "# test_size specifies the percentage for the test partition\n",
    "df4partition = df8\n",
    "testpart_size = 0.2\n",
    "\n",
    "# random_state specifies the seed for random number generator. \n",
    "# random_state = 1 unless otherwised noted\n",
    "df_nontestData, df_testData = train_test_split(df4partition, test_size=testpart_size, random_state=1)\n",
    "\n",
    "print(df_nontestData)"
   ]
  },
  {
   "cell_type": "markdown",
   "metadata": {
    "id": "lUQVyRQ2GV6P"
   },
   "source": [
    "# Logistic Regression"
   ]
  },
  {
   "cell_type": "code",
   "execution_count": null,
   "metadata": {
    "colab": {
     "base_uri": "https://localhost:8080/"
    },
    "id": "dJ2Vu0cMBFhu",
    "outputId": "7bf6077a-c273-46f8-af98-df101b66e7b8"
   },
   "outputs": [
    {
     "name": "stdout",
     "output_type": "stream",
     "text": [
      "                                            0\n",
      "house_type_MultiFamily               0.000000\n",
      "house_type_Single Family Residence   2.234059\n",
      "house_type_SingleFamily             -3.948193\n",
      "house_type_Townhouse                -3.367760\n",
      "house_type_Unknown                  -5.419036\n",
      "town_Hicksville                     -0.560977\n",
      "town_Huntington                      0.116376\n",
      "town_Jericho                        -3.012090\n",
      "town_Melville                        7.033154\n",
      "town_Plainview                       0.223069\n",
      "town_Syosset                         0.995937\n",
      "town_Woodbury                        0.604333\n",
      "heating_Electric                     1.371927\n",
      "heating_Forced air                   1.364118\n",
      "heating_Hot Water                   -6.109840\n",
      "heating_Natural Gas                 -3.239136\n",
      "heating_Oil                         -1.824395\n",
      "heating_Other                       10.940012\n",
      "heating_Propane                      1.508071\n",
      "cooling_Central Air                  1.376313\n",
      "cooling_Ductless                    -0.444350\n",
      "cooling_None                         1.299777\n",
      "cooling_Other                        0.890004\n",
      "cooling_Wall                         5.253052\n",
      "cooling_Wall Unit(s)                 2.079968\n",
      "cooling_Window Unit(s)               1.898935\n",
      "cooling_Zoned                        5.003227\n",
      "parking_1 Attached Garage space     -0.064258\n",
      "parking_1 Garage space               0.084182\n",
      "parking_1 Parking space              0.581208\n",
      "parking_2 Attached Garage spaces    -0.363685\n",
      "parking_2 Garage spaces             -1.154046\n",
      "parking_2 Parking spaces             6.131577\n",
      "parking_3 Attached Garage spaces    -0.046604\n",
      "parking_3 Garage spaces             -0.908364\n",
      "parking_3 Parking spaces             7.366400\n",
      "parking_4 Attached Garage spaces     7.098601\n",
      "parking_4 Garage spaces              3.554278\n",
      "parking_4 Parking spaces            -5.344214\n",
      "parking_5 Attached Garage spaces     0.000000\n",
      "parking_Driveway                     2.472944\n",
      "parking_Garage                       1.814612\n",
      "parking_Garage - Attached            6.334425\n",
      "parking_Garage - Detached           -5.448394\n",
      "parking_None                         0.455538\n",
      "parking_Private                     -0.593901\n",
      "parking_Shared Driveway              1.152396\n",
      "Intercept                            0.361156\n"
     ]
    },
    {
     "name": "stderr",
     "output_type": "stream",
     "text": [
      "/usr/local/lib/python3.7/dist-packages/sklearn/linear_model/_sag.py:354: ConvergenceWarning: The max_iter was reached which means the coef_ did not converge\n",
      "  ConvergenceWarning,\n"
     ]
    }
   ],
   "source": [
    "from sklearn.linear_model import LogisticRegression, LogisticRegressionCV\n",
    "\n",
    "# Separate the predictor values and the DV values into X and y respectively\n",
    "# Placeholder variable: DV\n",
    "dv = 'class_0'\n",
    "y = df_nontestData[dv]\n",
    "X = df_nontestData.drop(columns=[dv])\n",
    "\n",
    "# Run Logistic regression with pre-specified penalty level (alpha)\n",
    "# Placeholder variable: alpha\n",
    "alpha = 0.01\n",
    "\n",
    "# The Logistic regression results are put into a model object clf\n",
    "clf = LogisticRegression(C=1/alpha, penalty='l1', solver='saga', max_iter=200, random_state=1).fit(X,y)\n",
    "\n",
    "# A user-defined function summary_coef\n",
    "# to display the estimated coefficients of a model candidate obtained by the Logistic Regression analysis\n",
    "def summary_coef(model_object):\n",
    "  n_predictors = X.shape[1]\n",
    "  model_coef = pd.DataFrame(model_object.coef_.reshape(1, n_predictors), columns=X.columns.values)\n",
    "  model_coef['Intercept'] = model_object.intercept_\n",
    "  return model_coef.transpose()\n",
    "\n",
    "print(summary_coef(clf))\n"
   ]
  },
  {
   "cell_type": "code",
   "execution_count": null,
   "metadata": {
    "colab": {
     "base_uri": "https://localhost:8080/"
    },
    "id": "4V9wkGJAEdGw",
    "outputId": "ff0b21b7-4d1c-4e8c-e99e-759d99edc478"
   },
   "outputs": [
    {
     "name": "stderr",
     "output_type": "stream",
     "text": [
      "/usr/local/lib/python3.7/dist-packages/sklearn/linear_model/_sag.py:354: ConvergenceWarning: The max_iter was reached which means the coef_ did not converge\n",
      "  ConvergenceWarning,\n",
      "/usr/local/lib/python3.7/dist-packages/sklearn/linear_model/_sag.py:354: ConvergenceWarning: The max_iter was reached which means the coef_ did not converge\n",
      "  ConvergenceWarning,\n",
      "/usr/local/lib/python3.7/dist-packages/sklearn/linear_model/_sag.py:354: ConvergenceWarning: The max_iter was reached which means the coef_ did not converge\n",
      "  ConvergenceWarning,\n",
      "/usr/local/lib/python3.7/dist-packages/sklearn/linear_model/_sag.py:354: ConvergenceWarning: The max_iter was reached which means the coef_ did not converge\n",
      "  ConvergenceWarning,\n",
      "/usr/local/lib/python3.7/dist-packages/sklearn/linear_model/_sag.py:354: ConvergenceWarning: The max_iter was reached which means the coef_ did not converge\n",
      "  ConvergenceWarning,\n",
      "/usr/local/lib/python3.7/dist-packages/sklearn/linear_model/_sag.py:354: ConvergenceWarning: The max_iter was reached which means the coef_ did not converge\n",
      "  ConvergenceWarning,\n",
      "/usr/local/lib/python3.7/dist-packages/sklearn/linear_model/_sag.py:354: ConvergenceWarning: The max_iter was reached which means the coef_ did not converge\n",
      "  ConvergenceWarning,\n",
      "/usr/local/lib/python3.7/dist-packages/sklearn/linear_model/_sag.py:354: ConvergenceWarning: The max_iter was reached which means the coef_ did not converge\n",
      "  ConvergenceWarning,\n",
      "/usr/local/lib/python3.7/dist-packages/sklearn/linear_model/_sag.py:354: ConvergenceWarning: The max_iter was reached which means the coef_ did not converge\n",
      "  ConvergenceWarning,\n",
      "/usr/local/lib/python3.7/dist-packages/sklearn/linear_model/_sag.py:354: ConvergenceWarning: The max_iter was reached which means the coef_ did not converge\n",
      "  ConvergenceWarning,\n",
      "/usr/local/lib/python3.7/dist-packages/sklearn/linear_model/_sag.py:354: ConvergenceWarning: The max_iter was reached which means the coef_ did not converge\n",
      "  ConvergenceWarning,\n",
      "/usr/local/lib/python3.7/dist-packages/sklearn/linear_model/_sag.py:354: ConvergenceWarning: The max_iter was reached which means the coef_ did not converge\n",
      "  ConvergenceWarning,\n",
      "/usr/local/lib/python3.7/dist-packages/sklearn/linear_model/_sag.py:354: ConvergenceWarning: The max_iter was reached which means the coef_ did not converge\n",
      "  ConvergenceWarning,\n",
      "/usr/local/lib/python3.7/dist-packages/sklearn/linear_model/_sag.py:354: ConvergenceWarning: The max_iter was reached which means the coef_ did not converge\n",
      "  ConvergenceWarning,\n",
      "/usr/local/lib/python3.7/dist-packages/sklearn/linear_model/_sag.py:354: ConvergenceWarning: The max_iter was reached which means the coef_ did not converge\n",
      "  ConvergenceWarning,\n"
     ]
    },
    {
     "name": "stdout",
     "output_type": "stream",
     "text": [
      "                                           0\n",
      "house_type_MultiFamily              0.000000\n",
      "house_type_Single Family Residence  1.945608\n",
      "house_type_SingleFamily             0.000000\n",
      "house_type_Townhouse                0.000000\n",
      "house_type_Unknown                 -1.979976\n",
      "town_Hicksville                    -0.628162\n",
      "town_Huntington                     0.000000\n",
      "town_Jericho                       -3.271806\n",
      "town_Melville                       2.120468\n",
      "town_Plainview                      0.045572\n",
      "town_Syosset                        0.856593\n",
      "town_Woodbury                       0.519086\n",
      "heating_Electric                    0.000000\n",
      "heating_Forced air                  0.000000\n",
      "heating_Hot Water                  -2.261191\n",
      "heating_Natural Gas                -1.380601\n",
      "heating_Oil                         0.000000\n",
      "heating_Other                       4.662353\n",
      "heating_Propane                     0.000000\n",
      "cooling_Central Air                 0.828013\n",
      "cooling_Ductless                   -0.958586\n",
      "cooling_None                        0.050760\n",
      "cooling_Other                       0.000000\n",
      "cooling_Wall                        1.012945\n",
      "cooling_Wall Unit(s)                1.501640\n",
      "cooling_Window Unit(s)              1.398941\n",
      "cooling_Zoned                       1.712744\n",
      "parking_1 Attached Garage space     0.000000\n",
      "parking_1 Garage space              0.063901\n",
      "parking_1 Parking space             0.000000\n",
      "parking_2 Attached Garage spaces   -0.392018\n",
      "parking_2 Garage spaces            -0.621815\n",
      "parking_2 Parking spaces            0.942330\n",
      "parking_3 Attached Garage spaces    0.000000\n",
      "parking_3 Garage spaces             0.000000\n",
      "parking_3 Parking spaces            2.271654\n",
      "parking_4 Attached Garage spaces    3.579005\n",
      "parking_4 Garage spaces             1.112938\n",
      "parking_4 Parking spaces           -1.947713\n",
      "parking_5 Attached Garage spaces    0.000000\n",
      "parking_Driveway                    0.000000\n",
      "parking_Garage                      0.000000\n",
      "parking_Garage - Attached           2.528355\n",
      "parking_Garage - Detached          -1.751024\n",
      "parking_None                        0.000000\n",
      "parking_Private                    -0.497028\n",
      "parking_Shared Driveway             0.000000\n",
      "Intercept                          -0.569073\n",
      "[0.3012973]\n"
     ]
    }
   ],
   "source": [
    "# Run Logistic regression with k-fold cross validation with k=5\n",
    "# Placeholder variable: kfolds\n",
    "kfolds = 5\n",
    "\n",
    "# Here we specify within which range of the penalty levels we will search for the optimal penalty level, \n",
    "# i.e., the level that leads to the best model candidate\n",
    "# We search the optimal alpha within [min_alpha, max_alpha]\n",
    "min_alpha = 0.001\n",
    "max_alpha = 100\n",
    "\n",
    "# C is the inverse of alpha. LogisticRegression and LogisticRegressionCV require inverse alpha \n",
    "# as the parameter values for specifying penalty levels\n",
    "\n",
    "\n",
    "# We further discretize the continuous C range [min_C, max_C] into n individual points of C\n",
    "# We train n model candidates each of which corresponds to one individual C point\n",
    "n_candidates = 1000\n",
    "\n",
    "import numpy as np\n",
    "\n",
    "# We store the list of individual alpha points into alpha_list\n",
    "alpha_list = list(np.linspace(min_alpha, max_alpha, num=n_candidates))\n",
    "\n",
    "# C_list is the element-wise inverse of alpha_list. It is required as one of the paramater values for LogisticRegressionCV\n",
    "C_list = list(1/np.linspace(min_alpha, max_alpha, num=n_candidates))\n",
    "\n",
    "# The search criterion is to find the model that maximizes \n",
    "# whatever the scoring function - for this case the profit_calculation function - returns.\n",
    "clf_optimal = LogisticRegressionCV(Cs=C_list, cv=kfolds, penalty='l1', solver='saga', max_iter=200, random_state=1, n_jobs=-1).fit(X,y)\n",
    "\n",
    "# Display the estimated coefficients of the final selected model\n",
    "print(summary_coef(clf_optimal))\n",
    "\n",
    "# Display the optimal alpha that yields the final selected model (the best model candidate)\n",
    "print(1/clf_optimal.C_)\n"
   ]
  },
  {
   "cell_type": "code",
   "execution_count": null,
   "metadata": {
    "colab": {
     "base_uri": "https://localhost:8080/"
    },
    "id": "I2ZYoia51-hY",
    "outputId": "ee465dbe-1608-45fa-e0e3-4a3e1b748dc6"
   },
   "outputs": [
    {
     "name": "stdout",
     "output_type": "stream",
     "text": [
      "[[17 15]\n",
      " [ 6 94]]\n",
      "0.8409090909090909\n"
     ]
    },
    {
     "name": "stderr",
     "output_type": "stream",
     "text": [
      "/usr/local/lib/python3.7/dist-packages/sklearn/base.py:561: FutureWarning: Arrays of bytes/strings is being converted to decimal numbers if dtype='numeric'. This behavior is deprecated in 0.24 and will be removed in 1.1 (renaming of 0.26). Please convert your data to numeric values explicitly instead.\n",
      "  X = check_array(X, **check_params)\n",
      "/usr/local/lib/python3.7/dist-packages/sklearn/base.py:561: FutureWarning: Arrays of bytes/strings is being converted to decimal numbers if dtype='numeric'. This behavior is deprecated in 0.24 and will be removed in 1.1 (renaming of 0.26). Please convert your data to numeric values explicitly instead.\n",
      "  X = check_array(X, **check_params)\n"
     ]
    }
   ],
   "source": [
    "# Calcuate the average net profit over the test partition based on the final selected model\n",
    "\n",
    "# y_test_actual is the actual values of the DV in the test partition\n",
    "y_test_actual = df_testData[dv]\n",
    "\n",
    "# X_test is the predictor values in the test partition\n",
    "X_test = df_testData.drop(columns=[dv])\n",
    "\n",
    "y_test_predicted = clf_optimal.predict(X_test)\n",
    "\n",
    "from sklearn import metrics\n",
    "print(metrics.confusion_matrix(y_test_actual,y_test_predicted))\n",
    "print(clf_optimal.score(X_test,y_test_actual))\n",
    "# Use the clf_optimal object to apply the model associated with clf_optimal to the test partition\n",
    "# Use the user-defined profit_calculation function to get the profit\n"
   ]
  },
  {
   "cell_type": "code",
   "execution_count": null,
   "metadata": {
    "colab": {
     "base_uri": "https://localhost:8080/"
    },
    "id": "nVbGmUvjKbTN",
    "outputId": "f5c2113b-087c-4c33-ce4d-e46420c0b8ca"
   },
   "outputs": [
    {
     "name": "stdout",
     "output_type": "stream",
     "text": [
      "0.8681249999999999\n"
     ]
    },
    {
     "name": "stderr",
     "output_type": "stream",
     "text": [
      "/usr/local/lib/python3.7/dist-packages/sklearn/base.py:561: FutureWarning: Arrays of bytes/strings is being converted to decimal numbers if dtype='numeric'. This behavior is deprecated in 0.24 and will be removed in 1.1 (renaming of 0.26). Please convert your data to numeric values explicitly instead.\n",
      "  X = check_array(X, **check_params)\n"
     ]
    }
   ],
   "source": [
    "y_test_actual = df_testData[dv]\n",
    "\n",
    "X_test = df_testData.drop(columns=[dv])\n",
    "\n",
    "\n",
    "from sklearn.metrics import roc_auc_score\n",
    "print(roc_auc_score(y_test_actual, clf_optimal.predict_proba(X_test)[:,1]))"
   ]
  },
  {
   "cell_type": "code",
   "execution_count": null,
   "metadata": {
    "colab": {
     "base_uri": "https://localhost:8080/"
    },
    "id": "WCKdCA-BIhJq",
    "outputId": "104419f6-67f8-4f6a-fc6b-14d5234bdbbc"
   },
   "outputs": [
    {
     "data": {
      "text/plain": [
       "(659, 48)"
      ]
     },
     "execution_count": 81,
     "metadata": {},
     "output_type": "execute_result"
    }
   ],
   "source": [
    "df9 = df8.copy()\n",
    "df9.shape"
   ]
  },
  {
   "cell_type": "code",
   "execution_count": null,
   "metadata": {
    "colab": {
     "base_uri": "https://localhost:8080/"
    },
    "id": "q2DcPTsvJFSK",
    "outputId": "e5ebfafb-80c5-4048-a154-de697111624b"
   },
   "outputs": [
    {
     "data": {
      "text/plain": [
       "659"
      ]
     },
     "execution_count": 82,
     "metadata": {},
     "output_type": "execute_result"
    }
   ],
   "source": [
    "df2['price'].count()"
   ]
  },
  {
   "cell_type": "code",
   "execution_count": null,
   "metadata": {
    "id": "zoLc4xu7JSMI"
   },
   "outputs": [],
   "source": [
    "df9['price'] = df2['price'].copy()\n",
    "df9['price']=(df9['price']-df9['price'].mean())/df9['price'].std()"
   ]
  },
  {
   "cell_type": "code",
   "execution_count": null,
   "metadata": {
    "colab": {
     "base_uri": "https://localhost:8080/"
    },
    "id": "jVDPD8_9KEhP",
    "outputId": "447c2446-1649-4848-f150-fdcef67b81d5"
   },
   "outputs": [
    {
     "name": "stdout",
     "output_type": "stream",
     "text": [
      "    house_type_MultiFamily house_type_Single Family Residence  ... class_0     price\n",
      "382                      0                                  1  ...       1 -0.710622\n",
      "441                      0                                  1  ...       1 -0.584803\n",
      "421                      0                                  1  ...       1 -0.396075\n",
      "363                      0                                  1  ...       1 -0.065800\n",
      "536                      0                                  1  ...       1 -0.138146\n",
      "..                     ...                                ...  ...     ...       ...\n",
      "144                      0                                  1  ...       0 -0.676021\n",
      "645                      0                                  0  ...       0 -0.396075\n",
      "72                       0                                  1  ...       0  3.276262\n",
      "235                      0                                  0  ...       1 -0.718485\n",
      "37                       0                                  1  ...       0  0.132364\n",
      "\n",
      "[527 rows x 49 columns]\n"
     ]
    }
   ],
   "source": [
    "# Required package: scikit-learn. Package name in Python: sklearn\n",
    "# Required subpackage: model_selection. Required function name: train_test_split\n",
    "from sklearn.model_selection import train_test_split\n",
    "\n",
    "# Placeholder variables: df4partition3, testpart_size\n",
    "# test_size specifies the percentage for the test partition\n",
    "df4partition3 = df9\n",
    "testpart_size = 0.2\n",
    "\n",
    "# random_state specifies the seed for random number generator. \n",
    "# random_state = 1 unless otherwised noted\n",
    "df_nontestData3, df_testData3 = train_test_split(df4partition3, test_size=testpart_size, random_state=1)\n",
    "\n",
    "print(df_nontestData3)"
   ]
  },
  {
   "cell_type": "code",
   "execution_count": null,
   "metadata": {
    "colab": {
     "base_uri": "https://localhost:8080/"
    },
    "id": "rpI1eisPJ8SY",
    "outputId": "cb187fc4-dc3a-40d1-9a56-d6dd11f9a275"
   },
   "outputs": [
    {
     "name": "stdout",
     "output_type": "stream",
     "text": [
      "0.0029345239062161365\n",
      "                                           0\n",
      "house_type_MultiFamily              0.000000\n",
      "house_type_Single Family Residence -0.056048\n",
      "house_type_SingleFamily             0.000000\n",
      "house_type_Townhouse                0.000000\n",
      "house_type_Unknown                 -0.000000\n",
      "town_Hicksville                    -0.466952\n",
      "town_Huntington                     1.117142\n",
      "town_Jericho                        0.083422\n",
      "town_Melville                       0.698158\n",
      "town_Plainview                     -0.102889\n",
      "town_Syosset                        0.480419\n",
      "town_Woodbury                       1.774334\n",
      "heating_Electric                    0.000000\n",
      "heating_Forced air                 -0.000000\n",
      "heating_Hot Water                   0.000000\n",
      "heating_Natural Gas                -0.163655\n",
      "heating_Oil                        -0.449752\n",
      "heating_Other                      -0.631730\n",
      "heating_Propane                     0.000000\n",
      "cooling_Central Air                 0.339905\n",
      "cooling_Ductless                   -0.000000\n",
      "cooling_None                       -0.139051\n",
      "cooling_Other                      -0.000000\n",
      "cooling_Wall                       -0.264348\n",
      "cooling_Wall Unit(s)               -0.108093\n",
      "cooling_Window Unit(s)              0.000000\n",
      "cooling_Zoned                       0.000000\n",
      "parking_1 Attached Garage space     0.000000\n",
      "parking_1 Garage space             -0.279403\n",
      "parking_1 Parking space            -0.130020\n",
      "parking_2 Attached Garage spaces    0.253042\n",
      "parking_2 Garage spaces            -0.000000\n",
      "parking_2 Parking spaces           -0.000000\n",
      "parking_3 Attached Garage spaces    2.116085\n",
      "parking_3 Garage spaces             0.000000\n",
      "parking_3 Parking spaces           -0.037627\n",
      "parking_4 Attached Garage spaces   -0.000000\n",
      "parking_4 Garage spaces            -0.354860\n",
      "parking_4 Parking spaces           -0.000000\n",
      "parking_5 Attached Garage spaces    0.000000\n",
      "parking_Driveway                    0.000000\n",
      "parking_Garage                      0.069103\n",
      "parking_Garage - Attached          -0.000000\n",
      "parking_Garage - Detached           0.000000\n",
      "parking_None                        0.000000\n",
      "parking_Private                    -0.152349\n",
      "parking_Shared Driveway             0.000000\n",
      "class_0                            -0.318765\n",
      "Intercept                           0.271511\n",
      "0.31312784856810205\n"
     ]
    },
    {
     "name": "stderr",
     "output_type": "stream",
     "text": [
      "/usr/local/lib/python3.7/dist-packages/sklearn/base.py:561: FutureWarning: Arrays of bytes/strings is being converted to decimal numbers if dtype='numeric'. This behavior is deprecated in 0.24 and will be removed in 1.1 (renaming of 0.26). Please convert your data to numeric values explicitly instead.\n",
      "  X = check_array(X, **check_params)\n"
     ]
    }
   ],
   "source": [
    "\n",
    "from sklearn.linear_model import Lasso, LassoCV\n",
    "\n",
    "# Separate the predictor values and the DV values into X and y respectively\n",
    "# Placeholder variable: DV\n",
    "DV = 'price'\n",
    "y = df_nontestData3[DV]\n",
    "X = df_nontestData3.drop(columns=[DV])\n",
    "\n",
    "# Run Lasso with pre-specified penalty level (alpha)\n",
    "# Placeholder variable: alpha\n",
    "alpha = 0.01\n",
    "\n",
    "# The Lasso results are put into a Lasso model object clf\n",
    "clf = Lasso(alpha=alpha, random_state=1).fit(X,y)\n",
    "\n",
    "# A user-defined function summary_coef\n",
    "# to display the estimated coefficients of a model candidate obtained by the Lasso analysis\n",
    "# Input:  a Lasso model object which is the output of the function Lasso \n",
    "# Output: the estimated coefficients of the model candidate reported by the input Lasso model object\n",
    "def summary_coef(model_object):\n",
    "  n_predictors = X.shape[1]\n",
    "  model_coef = pd.DataFrame(model_object.coef_.reshape(1, n_predictors), columns=X.columns.values)\n",
    "  model_coef['Intercept'] = model_object.intercept_\n",
    "  return model_coef.transpose()\n",
    "\n",
    "# Run Lasso with k-fold cross validation with k=5\n",
    "# Placeholder variable: kfolds\n",
    "kfolds = 5\n",
    "\n",
    "# Set n_jobs to be -1 to run LassoCV on all CPU cores.\n",
    "clf_optimal = LassoCV(cv=kfolds, random_state=1, n_jobs=-1).fit(X,y)\n",
    "\n",
    "# Display the optimal alpha that yields the final selected model (the best model candidate)\n",
    "print(clf_optimal.alpha_)\n",
    "\n",
    "# Display the estimated coefficients of the final selected model\n",
    "print(summary_coef(clf_optimal))\n",
    "\n",
    "# Calcuate the ASE over the test partition based on the final selected model\n",
    "\n",
    "# y_test_actual is the actual values of the DV in the test partition\n",
    "y_test_actual3 = df_testData3[DV]\n",
    "\n",
    "# X_test is the predictor values in the test partition\n",
    "X_test3 = df_testData3.drop(columns=[DV])\n",
    "\n",
    "# Use predict method of the clf_optimal object to apply the model associated with clf_optimal to the test partition\n",
    "# y_test_predicted is the predicted values of the DV in the test partition \n",
    "y_test_predicted3 = clf_optimal.predict(X_test3)\n",
    "\n",
    "# Get the number of obs in the test partition\n",
    "n_obs_test3 = df_testData.shape[0]\n",
    "\n",
    "# Derive ASE over the test partition based on the definition of ASE\n",
    "ASE_test3 = sum((y_test_actual3 - y_test_predicted3)**2)/n_obs_test3\n",
    "\n",
    "print(ASE_test3)"
   ]
  }
 ],
 "metadata": {
  "colab": {
   "provenance": []
  },
  "kernelspec": {
   "display_name": "Python 3 (ipykernel)",
   "language": "python",
   "name": "python3"
  },
  "language_info": {
   "codemirror_mode": {
    "name": "ipython",
    "version": 3
   },
   "file_extension": ".py",
   "mimetype": "text/x-python",
   "name": "python",
   "nbconvert_exporter": "python",
   "pygments_lexer": "ipython3",
   "version": "3.9.12"
  }
 },
 "nbformat": 4,
 "nbformat_minor": 1
}
