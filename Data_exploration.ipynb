{
 "cells": [
  {
   "cell_type": "code",
   "execution_count": null,
   "metadata": {
    "id": "9mVoBTTuBFJ2"
   },
   "outputs": [],
   "source": [
    "# import necessary python packages \n",
    "\n",
    "import pandas as pd\n",
    "import seaborn as sns\n",
    "import requests\n",
    "from bs4 import BeautifulSoup\n",
    "from datetime import date\n",
    "import csv\n",
    "import os\n",
    "import json\n",
    "import urllib.request\n",
    "from datetime import date\n",
    "import matplotlib.pyplot as plt"
   ]
  },
  {
   "cell_type": "markdown",
   "metadata": {
    "id": "RJ4ZOnZPER8P"
   },
   "source": [
    "# Data Acquisition\n",
    "Read the data from the crawled csv file and display the dataframe general view"
   ]
  },
  {
   "cell_type": "code",
   "execution_count": null,
   "metadata": {
    "colab": {
     "base_uri": "https://localhost:8080/"
    },
    "id": "IFGVpEudBFM2",
    "outputId": "0fa44eaa-f0c1-4225-81b3-d8959fad3333"
   },
   "outputs": [
    {
     "name": "stdout",
     "output_type": "stream",
     "text": [
      "                                              h_link  ...      lot\n",
      "0  https://www.zillow.com/homedetails/34-Joyce-Ln...  ...  10890.0\n",
      "1  https://www.zillow.com/homedetails/61-Cypress-...  ...  11326.0\n",
      "2  https://www.zillow.com/homedetails/69-Walter-A...  ...  11326.0\n",
      "3  https://www.zillow.com/homedetails/6-Park-Ct-P...  ...  11326.0\n",
      "4  https://www.zillow.com/homedetails/6-Lesley-Ln...  ...  11326.0\n",
      "\n",
      "[5 rows x 18 columns]\n",
      "['h_link' 'num_of_bed' 'num_of_bath' 'square' 'price' 'zestimate' 'year'\n",
      " 'month' 'date' 'town' 'state' 'zipcode' 'house_type' 'year_built'\n",
      " 'heating' 'cooling' 'parking' 'lot']\n",
      "(659, 18)\n"
     ]
    }
   ],
   "source": [
    "# Read data from a CSV file into a data frame\n",
    "df = pd.read_csv('zillow.csv')\n",
    "\n",
    "# Display the first five rows of the data frame to examine if it is an individual-level data set\n",
    "print(df.head())\n",
    "\n",
    "# Display the variable list\n",
    "print(df.columns.values)\n",
    "\n",
    "# Display the number of rows and the number of columns in the data set to confirm the portrait shape\n",
    "# The first element of the output is the number of rows and the second is the number of columns \n",
    "print(df.shape)"
   ]
  },
  {
   "cell_type": "code",
   "execution_count": null,
   "metadata": {
    "colab": {
     "base_uri": "https://localhost:8080/"
    },
    "id": "OCPo3F2LtlyR",
    "outputId": "15ade775-6245-4564-9d47-8618a77edd1a"
   },
   "outputs": [
    {
     "data": {
      "text/plain": [
       "h_link          object\n",
       "num_of_bed     float64\n",
       "num_of_bath    float64\n",
       "square         float64\n",
       "price            int64\n",
       "zestimate      float64\n",
       "year             int64\n",
       "month            int64\n",
       "date             int64\n",
       "town            object\n",
       "state           object\n",
       "zipcode          int64\n",
       "house_type      object\n",
       "year_built     float64\n",
       "heating         object\n",
       "cooling         object\n",
       "parking         object\n",
       "lot            float64\n",
       "dtype: object"
      ]
     },
     "execution_count": 5,
     "metadata": {},
     "output_type": "execute_result"
    }
   ],
   "source": [
    "#show all the attributes' data types\n",
    "df.dtypes"
   ]
  },
  {
   "cell_type": "markdown",
   "metadata": {
    "id": "6GM7nYlXEv83"
   },
   "source": [
    "# Data Cleaning\n",
    "Impute missing / NA values and convert the attribute' data type into properly ones"
   ]
  },
  {
   "cell_type": "code",
   "execution_count": null,
   "metadata": {
    "colab": {
     "base_uri": "https://localhost:8080/"
    },
    "id": "Vwx1peE5HfDz",
    "outputId": "e17f0472-83cd-424d-d9fe-e0c6e41e77ee"
   },
   "outputs": [
    {
     "data": {
      "text/plain": [
       "h_link           0\n",
       "num_of_bed      29\n",
       "num_of_bath     12\n",
       "square         267\n",
       "price            0\n",
       "zestimate       58\n",
       "year             0\n",
       "month            0\n",
       "date             0\n",
       "town             0\n",
       "state            0\n",
       "zipcode          0\n",
       "house_type       0\n",
       "year_built       9\n",
       "heating         15\n",
       "cooling         41\n",
       "parking          0\n",
       "lot             20\n",
       "dtype: int64"
      ]
     },
     "execution_count": 6,
     "metadata": {},
     "output_type": "execute_result"
    }
   ],
   "source": [
    "#check total counts of missing values of each attribute\n",
    "df.isnull().sum()"
   ]
  },
  {
   "cell_type": "code",
   "execution_count": null,
   "metadata": {
    "colab": {
     "base_uri": "https://localhost:8080/",
     "height": 496
    },
    "id": "kevpMknuULEU",
    "outputId": "07d1ff45-dcf4-45ef-cd3c-bf6235f07c9c"
   },
   "outputs": [
    {
     "data": {
      "text/html": [
       "\n",
       "  <div id=\"df-c0da8b10-e139-4599-9d90-67a990a84dbb\">\n",
       "    <div class=\"colab-df-container\">\n",
       "      <div>\n",
       "<style scoped>\n",
       "    .dataframe tbody tr th:only-of-type {\n",
       "        vertical-align: middle;\n",
       "    }\n",
       "\n",
       "    .dataframe tbody tr th {\n",
       "        vertical-align: top;\n",
       "    }\n",
       "\n",
       "    .dataframe thead th {\n",
       "        text-align: right;\n",
       "    }\n",
       "</style>\n",
       "<table border=\"1\" class=\"dataframe\">\n",
       "  <thead>\n",
       "    <tr style=\"text-align: right;\">\n",
       "      <th></th>\n",
       "      <th>h_link</th>\n",
       "      <th>num_of_bed</th>\n",
       "      <th>num_of_bath</th>\n",
       "      <th>square</th>\n",
       "      <th>price</th>\n",
       "      <th>zestimate</th>\n",
       "      <th>year</th>\n",
       "      <th>month</th>\n",
       "      <th>date</th>\n",
       "      <th>town</th>\n",
       "      <th>state</th>\n",
       "      <th>zipcode</th>\n",
       "      <th>house_type</th>\n",
       "      <th>year_built</th>\n",
       "      <th>heating</th>\n",
       "      <th>cooling</th>\n",
       "      <th>parking</th>\n",
       "      <th>lot</th>\n",
       "    </tr>\n",
       "  </thead>\n",
       "  <tbody>\n",
       "    <tr>\n",
       "      <th>0</th>\n",
       "      <td>https://www.zillow.com/homedetails/34-Joyce-Ln...</td>\n",
       "      <td>6.0</td>\n",
       "      <td>3.0</td>\n",
       "      <td>3299.0</td>\n",
       "      <td>1080000</td>\n",
       "      <td>1096500.0</td>\n",
       "      <td>2021</td>\n",
       "      <td>10</td>\n",
       "      <td>13</td>\n",
       "      <td>Woodbury</td>\n",
       "      <td>NY</td>\n",
       "      <td>11797</td>\n",
       "      <td>Single Family Residence</td>\n",
       "      <td>1967.0</td>\n",
       "      <td>Natural Gas</td>\n",
       "      <td>Central Air</td>\n",
       "      <td>2 Attached Garage spaces</td>\n",
       "      <td>10890.0</td>\n",
       "    </tr>\n",
       "    <tr>\n",
       "      <th>1</th>\n",
       "      <td>https://www.zillow.com/homedetails/61-Cypress-...</td>\n",
       "      <td>3.0</td>\n",
       "      <td>2.0</td>\n",
       "      <td>NaN</td>\n",
       "      <td>555000</td>\n",
       "      <td>561800.0</td>\n",
       "      <td>2021</td>\n",
       "      <td>10</td>\n",
       "      <td>21</td>\n",
       "      <td>Bethpage</td>\n",
       "      <td>NY</td>\n",
       "      <td>11714</td>\n",
       "      <td>Single Family Residence</td>\n",
       "      <td>1956.0</td>\n",
       "      <td>Natural Gas</td>\n",
       "      <td>Central Air</td>\n",
       "      <td>1 Attached Garage space</td>\n",
       "      <td>11326.0</td>\n",
       "    </tr>\n",
       "    <tr>\n",
       "      <th>2</th>\n",
       "      <td>https://www.zillow.com/homedetails/69-Walter-A...</td>\n",
       "      <td>6.0</td>\n",
       "      <td>4.0</td>\n",
       "      <td>2663.0</td>\n",
       "      <td>875000</td>\n",
       "      <td>NaN</td>\n",
       "      <td>2021</td>\n",
       "      <td>11</td>\n",
       "      <td>15</td>\n",
       "      <td>Hicksville</td>\n",
       "      <td>NY</td>\n",
       "      <td>11801</td>\n",
       "      <td>Single Family Residence</td>\n",
       "      <td>1981.0</td>\n",
       "      <td>Natural Gas</td>\n",
       "      <td>Wall Unit(s)</td>\n",
       "      <td>1 Attached Garage space</td>\n",
       "      <td>11326.0</td>\n",
       "    </tr>\n",
       "    <tr>\n",
       "      <th>3</th>\n",
       "      <td>https://www.zillow.com/homedetails/6-Park-Ct-P...</td>\n",
       "      <td>5.0</td>\n",
       "      <td>3.0</td>\n",
       "      <td>3662.0</td>\n",
       "      <td>1350000</td>\n",
       "      <td>1360000.0</td>\n",
       "      <td>2021</td>\n",
       "      <td>11</td>\n",
       "      <td>10</td>\n",
       "      <td>Plainview</td>\n",
       "      <td>NY</td>\n",
       "      <td>11803</td>\n",
       "      <td>Single Family Residence</td>\n",
       "      <td>2021.0</td>\n",
       "      <td>Natural Gas</td>\n",
       "      <td>Central Air</td>\n",
       "      <td>2 Attached Garage spaces</td>\n",
       "      <td>11326.0</td>\n",
       "    </tr>\n",
       "    <tr>\n",
       "      <th>4</th>\n",
       "      <td>https://www.zillow.com/homedetails/6-Lesley-Ln...</td>\n",
       "      <td>NaN</td>\n",
       "      <td>1.5</td>\n",
       "      <td>1592.0</td>\n",
       "      <td>560000</td>\n",
       "      <td>641300.0</td>\n",
       "      <td>2021</td>\n",
       "      <td>11</td>\n",
       "      <td>9</td>\n",
       "      <td>Bethpage</td>\n",
       "      <td>NY</td>\n",
       "      <td>11804</td>\n",
       "      <td>SingleFamily</td>\n",
       "      <td>1957.0</td>\n",
       "      <td>Other</td>\n",
       "      <td>Central</td>\n",
       "      <td>Garage - Attached</td>\n",
       "      <td>11326.0</td>\n",
       "    </tr>\n",
       "  </tbody>\n",
       "</table>\n",
       "</div>\n",
       "      <button class=\"colab-df-convert\" onclick=\"convertToInteractive('df-c0da8b10-e139-4599-9d90-67a990a84dbb')\"\n",
       "              title=\"Convert this dataframe to an interactive table.\"\n",
       "              style=\"display:none;\">\n",
       "        \n",
       "  <svg xmlns=\"http://www.w3.org/2000/svg\" height=\"24px\"viewBox=\"0 0 24 24\"\n",
       "       width=\"24px\">\n",
       "    <path d=\"M0 0h24v24H0V0z\" fill=\"none\"/>\n",
       "    <path d=\"M18.56 5.44l.94 2.06.94-2.06 2.06-.94-2.06-.94-.94-2.06-.94 2.06-2.06.94zm-11 1L8.5 8.5l.94-2.06 2.06-.94-2.06-.94L8.5 2.5l-.94 2.06-2.06.94zm10 10l.94 2.06.94-2.06 2.06-.94-2.06-.94-.94-2.06-.94 2.06-2.06.94z\"/><path d=\"M17.41 7.96l-1.37-1.37c-.4-.4-.92-.59-1.43-.59-.52 0-1.04.2-1.43.59L10.3 9.45l-7.72 7.72c-.78.78-.78 2.05 0 2.83L4 21.41c.39.39.9.59 1.41.59.51 0 1.02-.2 1.41-.59l7.78-7.78 2.81-2.81c.8-.78.8-2.07 0-2.86zM5.41 20L4 18.59l7.72-7.72 1.47 1.35L5.41 20z\"/>\n",
       "  </svg>\n",
       "      </button>\n",
       "      \n",
       "  <style>\n",
       "    .colab-df-container {\n",
       "      display:flex;\n",
       "      flex-wrap:wrap;\n",
       "      gap: 12px;\n",
       "    }\n",
       "\n",
       "    .colab-df-convert {\n",
       "      background-color: #E8F0FE;\n",
       "      border: none;\n",
       "      border-radius: 50%;\n",
       "      cursor: pointer;\n",
       "      display: none;\n",
       "      fill: #1967D2;\n",
       "      height: 32px;\n",
       "      padding: 0 0 0 0;\n",
       "      width: 32px;\n",
       "    }\n",
       "\n",
       "    .colab-df-convert:hover {\n",
       "      background-color: #E2EBFA;\n",
       "      box-shadow: 0px 1px 2px rgba(60, 64, 67, 0.3), 0px 1px 3px 1px rgba(60, 64, 67, 0.15);\n",
       "      fill: #174EA6;\n",
       "    }\n",
       "\n",
       "    [theme=dark] .colab-df-convert {\n",
       "      background-color: #3B4455;\n",
       "      fill: #D2E3FC;\n",
       "    }\n",
       "\n",
       "    [theme=dark] .colab-df-convert:hover {\n",
       "      background-color: #434B5C;\n",
       "      box-shadow: 0px 1px 3px 1px rgba(0, 0, 0, 0.15);\n",
       "      filter: drop-shadow(0px 1px 2px rgba(0, 0, 0, 0.3));\n",
       "      fill: #FFFFFF;\n",
       "    }\n",
       "  </style>\n",
       "\n",
       "      <script>\n",
       "        const buttonEl =\n",
       "          document.querySelector('#df-c0da8b10-e139-4599-9d90-67a990a84dbb button.colab-df-convert');\n",
       "        buttonEl.style.display =\n",
       "          google.colab.kernel.accessAllowed ? 'block' : 'none';\n",
       "\n",
       "        async function convertToInteractive(key) {\n",
       "          const element = document.querySelector('#df-c0da8b10-e139-4599-9d90-67a990a84dbb');\n",
       "          const dataTable =\n",
       "            await google.colab.kernel.invokeFunction('convertToInteractive',\n",
       "                                                     [key], {});\n",
       "          if (!dataTable) return;\n",
       "\n",
       "          const docLinkHtml = 'Like what you see? Visit the ' +\n",
       "            '<a target=\"_blank\" href=https://colab.research.google.com/notebooks/data_table.ipynb>data table notebook</a>'\n",
       "            + ' to learn more about interactive tables.';\n",
       "          element.innerHTML = '';\n",
       "          dataTable['output_type'] = 'display_data';\n",
       "          await google.colab.output.renderOutput(dataTable, element);\n",
       "          const docLink = document.createElement('div');\n",
       "          docLink.innerHTML = docLinkHtml;\n",
       "          element.appendChild(docLink);\n",
       "        }\n",
       "      </script>\n",
       "    </div>\n",
       "  </div>\n",
       "  "
      ],
      "text/plain": [
       "                                              h_link  ...      lot\n",
       "0  https://www.zillow.com/homedetails/34-Joyce-Ln...  ...  10890.0\n",
       "1  https://www.zillow.com/homedetails/61-Cypress-...  ...  11326.0\n",
       "2  https://www.zillow.com/homedetails/69-Walter-A...  ...  11326.0\n",
       "3  https://www.zillow.com/homedetails/6-Park-Ct-P...  ...  11326.0\n",
       "4  https://www.zillow.com/homedetails/6-Lesley-Ln...  ...  11326.0\n",
       "\n",
       "[5 rows x 18 columns]"
      ]
     },
     "execution_count": 7,
     "metadata": {},
     "output_type": "execute_result"
    }
   ],
   "source": [
    "# Drop the observations that contain missing dependent variable values\n",
    "# Placeholder variable is DV\n",
    "DV = 'price'\n",
    "df1 = df.copy()\n",
    "df1 = df1.dropna(subset=[DV])\n",
    "df1.head()"
   ]
  },
  {
   "cell_type": "code",
   "execution_count": null,
   "metadata": {
    "id": "Ev6_efjFhpcK"
   },
   "outputs": [],
   "source": [
    "df2 = df1.copy()"
   ]
  },
  {
   "cell_type": "code",
   "execution_count": null,
   "metadata": {
    "id": "mr8XgdJng8eb"
   },
   "outputs": [],
   "source": [
    "#df2['price'] = df2['price'].astype(str).str.replace('$', '').str.replace(',', '')\n",
    "#df2['price'] = pd.to_numeric(df2['price'], errors='coerce').fillna(df2['price'].median(), inplace=True)\n",
    "df2['price'] = df2['price'].astype('int64')"
   ]
  },
  {
   "cell_type": "code",
   "execution_count": null,
   "metadata": {
    "id": "pHmmjCaSg-hK"
   },
   "outputs": [],
   "source": [
    "#df2['year_built'] = df2['year_built'].str.replace('Build in ', '')\n",
    "df2['year_built'] = pd.to_numeric(df2['year_built'], errors='coerce').fillna(0).astype(int)"
   ]
  },
  {
   "cell_type": "code",
   "execution_count": null,
   "metadata": {
    "id": "1x4mog31ULHq"
   },
   "outputs": [],
   "source": [
    "#df2['square'] = df2['square'].str.replace(',', '').str.replace('sqft', '')\n",
    "df2['square'] = pd.to_numeric(df2['square'], errors='coerce').fillna(0).astype(int)"
   ]
  },
  {
   "cell_type": "code",
   "execution_count": null,
   "metadata": {
    "id": "spgUQA_hj1_o"
   },
   "outputs": [],
   "source": [
    "#df2['num_of_bed'] = df1['num_of_bed'].str.replace('bd', '')\n",
    "df2['num_of_bed'] = pd.to_numeric(df2['num_of_bed'], errors='coerce').fillna(0).astype(int)"
   ]
  },
  {
   "cell_type": "code",
   "execution_count": null,
   "metadata": {
    "id": "7LjYyGd1j2C7"
   },
   "outputs": [],
   "source": [
    "#df2['num_of_bath'] = df1['num_of_bath'].str.replace('ba', '')\n",
    "df2['num_of_bath'] = pd.to_numeric(df2['num_of_bath'], errors='coerce').fillna(0).astype(int)"
   ]
  },
  {
   "cell_type": "code",
   "execution_count": null,
   "metadata": {
    "id": "2CnyQJldj2Gj"
   },
   "outputs": [],
   "source": [
    "#df2['lot'] = df1['lot'].str.replace(',', '').str.replace('sqft', '')\n",
    "df2['lot'] = pd.to_numeric(df2['lot'], errors='coerce').fillna(0).astype(int)"
   ]
  },
  {
   "cell_type": "code",
   "execution_count": null,
   "metadata": {
    "id": "Ns8n4dnjkxIj"
   },
   "outputs": [],
   "source": [
    "\n",
    "#df2['zestimate'] = df2['zestimate'].str.replace('$', '').str.replace(',','')\n",
    "df2['zestimate'] = pd.to_numeric(df2['zestimate'], errors='coerce').fillna(0).astype(int)"
   ]
  },
  {
   "cell_type": "code",
   "execution_count": null,
   "metadata": {
    "colab": {
     "base_uri": "https://localhost:8080/",
     "height": 476
    },
    "id": "xHVG9sBphPui",
    "outputId": "2c0f1a0b-ea40-41ad-9952-d6fcd732c54d"
   },
   "outputs": [
    {
     "data": {
      "text/html": [
       "\n",
       "  <div id=\"df-fc762c32-c8c4-40e9-882c-2966139ab6ca\">\n",
       "    <div class=\"colab-df-container\">\n",
       "      <div>\n",
       "<style scoped>\n",
       "    .dataframe tbody tr th:only-of-type {\n",
       "        vertical-align: middle;\n",
       "    }\n",
       "\n",
       "    .dataframe tbody tr th {\n",
       "        vertical-align: top;\n",
       "    }\n",
       "\n",
       "    .dataframe thead th {\n",
       "        text-align: right;\n",
       "    }\n",
       "</style>\n",
       "<table border=\"1\" class=\"dataframe\">\n",
       "  <thead>\n",
       "    <tr style=\"text-align: right;\">\n",
       "      <th></th>\n",
       "      <th>h_link</th>\n",
       "      <th>num_of_bed</th>\n",
       "      <th>num_of_bath</th>\n",
       "      <th>square</th>\n",
       "      <th>price</th>\n",
       "      <th>zestimate</th>\n",
       "      <th>year</th>\n",
       "      <th>month</th>\n",
       "      <th>date</th>\n",
       "      <th>town</th>\n",
       "      <th>state</th>\n",
       "      <th>zipcode</th>\n",
       "      <th>house_type</th>\n",
       "      <th>year_built</th>\n",
       "      <th>heating</th>\n",
       "      <th>cooling</th>\n",
       "      <th>parking</th>\n",
       "      <th>lot</th>\n",
       "    </tr>\n",
       "  </thead>\n",
       "  <tbody>\n",
       "    <tr>\n",
       "      <th>0</th>\n",
       "      <td>https://www.zillow.com/homedetails/34-Joyce-Ln...</td>\n",
       "      <td>6</td>\n",
       "      <td>3</td>\n",
       "      <td>3299</td>\n",
       "      <td>1080000</td>\n",
       "      <td>1096500</td>\n",
       "      <td>2021</td>\n",
       "      <td>10</td>\n",
       "      <td>13</td>\n",
       "      <td>Woodbury</td>\n",
       "      <td>NY</td>\n",
       "      <td>11797</td>\n",
       "      <td>Single Family Residence</td>\n",
       "      <td>1967</td>\n",
       "      <td>Natural Gas</td>\n",
       "      <td>Central Air</td>\n",
       "      <td>2 Attached Garage spaces</td>\n",
       "      <td>10890</td>\n",
       "    </tr>\n",
       "    <tr>\n",
       "      <th>1</th>\n",
       "      <td>https://www.zillow.com/homedetails/61-Cypress-...</td>\n",
       "      <td>3</td>\n",
       "      <td>2</td>\n",
       "      <td>0</td>\n",
       "      <td>555000</td>\n",
       "      <td>561800</td>\n",
       "      <td>2021</td>\n",
       "      <td>10</td>\n",
       "      <td>21</td>\n",
       "      <td>Bethpage</td>\n",
       "      <td>NY</td>\n",
       "      <td>11714</td>\n",
       "      <td>Single Family Residence</td>\n",
       "      <td>1956</td>\n",
       "      <td>Natural Gas</td>\n",
       "      <td>Central Air</td>\n",
       "      <td>1 Attached Garage space</td>\n",
       "      <td>11326</td>\n",
       "    </tr>\n",
       "    <tr>\n",
       "      <th>2</th>\n",
       "      <td>https://www.zillow.com/homedetails/69-Walter-A...</td>\n",
       "      <td>6</td>\n",
       "      <td>4</td>\n",
       "      <td>2663</td>\n",
       "      <td>875000</td>\n",
       "      <td>0</td>\n",
       "      <td>2021</td>\n",
       "      <td>11</td>\n",
       "      <td>15</td>\n",
       "      <td>Hicksville</td>\n",
       "      <td>NY</td>\n",
       "      <td>11801</td>\n",
       "      <td>Single Family Residence</td>\n",
       "      <td>1981</td>\n",
       "      <td>Natural Gas</td>\n",
       "      <td>Wall Unit(s)</td>\n",
       "      <td>1 Attached Garage space</td>\n",
       "      <td>11326</td>\n",
       "    </tr>\n",
       "    <tr>\n",
       "      <th>3</th>\n",
       "      <td>https://www.zillow.com/homedetails/6-Park-Ct-P...</td>\n",
       "      <td>5</td>\n",
       "      <td>3</td>\n",
       "      <td>3662</td>\n",
       "      <td>1350000</td>\n",
       "      <td>1360000</td>\n",
       "      <td>2021</td>\n",
       "      <td>11</td>\n",
       "      <td>10</td>\n",
       "      <td>Plainview</td>\n",
       "      <td>NY</td>\n",
       "      <td>11803</td>\n",
       "      <td>Single Family Residence</td>\n",
       "      <td>2021</td>\n",
       "      <td>Natural Gas</td>\n",
       "      <td>Central Air</td>\n",
       "      <td>2 Attached Garage spaces</td>\n",
       "      <td>11326</td>\n",
       "    </tr>\n",
       "    <tr>\n",
       "      <th>4</th>\n",
       "      <td>https://www.zillow.com/homedetails/6-Lesley-Ln...</td>\n",
       "      <td>0</td>\n",
       "      <td>1</td>\n",
       "      <td>1592</td>\n",
       "      <td>560000</td>\n",
       "      <td>641300</td>\n",
       "      <td>2021</td>\n",
       "      <td>11</td>\n",
       "      <td>9</td>\n",
       "      <td>Bethpage</td>\n",
       "      <td>NY</td>\n",
       "      <td>11804</td>\n",
       "      <td>SingleFamily</td>\n",
       "      <td>1957</td>\n",
       "      <td>Other</td>\n",
       "      <td>Central</td>\n",
       "      <td>Garage - Attached</td>\n",
       "      <td>11326</td>\n",
       "    </tr>\n",
       "  </tbody>\n",
       "</table>\n",
       "</div>\n",
       "      <button class=\"colab-df-convert\" onclick=\"convertToInteractive('df-fc762c32-c8c4-40e9-882c-2966139ab6ca')\"\n",
       "              title=\"Convert this dataframe to an interactive table.\"\n",
       "              style=\"display:none;\">\n",
       "        \n",
       "  <svg xmlns=\"http://www.w3.org/2000/svg\" height=\"24px\"viewBox=\"0 0 24 24\"\n",
       "       width=\"24px\">\n",
       "    <path d=\"M0 0h24v24H0V0z\" fill=\"none\"/>\n",
       "    <path d=\"M18.56 5.44l.94 2.06.94-2.06 2.06-.94-2.06-.94-.94-2.06-.94 2.06-2.06.94zm-11 1L8.5 8.5l.94-2.06 2.06-.94-2.06-.94L8.5 2.5l-.94 2.06-2.06.94zm10 10l.94 2.06.94-2.06 2.06-.94-2.06-.94-.94-2.06-.94 2.06-2.06.94z\"/><path d=\"M17.41 7.96l-1.37-1.37c-.4-.4-.92-.59-1.43-.59-.52 0-1.04.2-1.43.59L10.3 9.45l-7.72 7.72c-.78.78-.78 2.05 0 2.83L4 21.41c.39.39.9.59 1.41.59.51 0 1.02-.2 1.41-.59l7.78-7.78 2.81-2.81c.8-.78.8-2.07 0-2.86zM5.41 20L4 18.59l7.72-7.72 1.47 1.35L5.41 20z\"/>\n",
       "  </svg>\n",
       "      </button>\n",
       "      \n",
       "  <style>\n",
       "    .colab-df-container {\n",
       "      display:flex;\n",
       "      flex-wrap:wrap;\n",
       "      gap: 12px;\n",
       "    }\n",
       "\n",
       "    .colab-df-convert {\n",
       "      background-color: #E8F0FE;\n",
       "      border: none;\n",
       "      border-radius: 50%;\n",
       "      cursor: pointer;\n",
       "      display: none;\n",
       "      fill: #1967D2;\n",
       "      height: 32px;\n",
       "      padding: 0 0 0 0;\n",
       "      width: 32px;\n",
       "    }\n",
       "\n",
       "    .colab-df-convert:hover {\n",
       "      background-color: #E2EBFA;\n",
       "      box-shadow: 0px 1px 2px rgba(60, 64, 67, 0.3), 0px 1px 3px 1px rgba(60, 64, 67, 0.15);\n",
       "      fill: #174EA6;\n",
       "    }\n",
       "\n",
       "    [theme=dark] .colab-df-convert {\n",
       "      background-color: #3B4455;\n",
       "      fill: #D2E3FC;\n",
       "    }\n",
       "\n",
       "    [theme=dark] .colab-df-convert:hover {\n",
       "      background-color: #434B5C;\n",
       "      box-shadow: 0px 1px 3px 1px rgba(0, 0, 0, 0.15);\n",
       "      filter: drop-shadow(0px 1px 2px rgba(0, 0, 0, 0.3));\n",
       "      fill: #FFFFFF;\n",
       "    }\n",
       "  </style>\n",
       "\n",
       "      <script>\n",
       "        const buttonEl =\n",
       "          document.querySelector('#df-fc762c32-c8c4-40e9-882c-2966139ab6ca button.colab-df-convert');\n",
       "        buttonEl.style.display =\n",
       "          google.colab.kernel.accessAllowed ? 'block' : 'none';\n",
       "\n",
       "        async function convertToInteractive(key) {\n",
       "          const element = document.querySelector('#df-fc762c32-c8c4-40e9-882c-2966139ab6ca');\n",
       "          const dataTable =\n",
       "            await google.colab.kernel.invokeFunction('convertToInteractive',\n",
       "                                                     [key], {});\n",
       "          if (!dataTable) return;\n",
       "\n",
       "          const docLinkHtml = 'Like what you see? Visit the ' +\n",
       "            '<a target=\"_blank\" href=https://colab.research.google.com/notebooks/data_table.ipynb>data table notebook</a>'\n",
       "            + ' to learn more about interactive tables.';\n",
       "          element.innerHTML = '';\n",
       "          dataTable['output_type'] = 'display_data';\n",
       "          await google.colab.output.renderOutput(dataTable, element);\n",
       "          const docLink = document.createElement('div');\n",
       "          docLink.innerHTML = docLinkHtml;\n",
       "          element.appendChild(docLink);\n",
       "        }\n",
       "      </script>\n",
       "    </div>\n",
       "  </div>\n",
       "  "
      ],
      "text/plain": [
       "                                              h_link  ...    lot\n",
       "0  https://www.zillow.com/homedetails/34-Joyce-Ln...  ...  10890\n",
       "1  https://www.zillow.com/homedetails/61-Cypress-...  ...  11326\n",
       "2  https://www.zillow.com/homedetails/69-Walter-A...  ...  11326\n",
       "3  https://www.zillow.com/homedetails/6-Park-Ct-P...  ...  11326\n",
       "4  https://www.zillow.com/homedetails/6-Lesley-Ln...  ...  11326\n",
       "\n",
       "[5 rows x 18 columns]"
      ]
     },
     "execution_count": 35,
     "metadata": {},
     "output_type": "execute_result"
    }
   ],
   "source": [
    "df2.head()"
   ]
  },
  {
   "cell_type": "code",
   "execution_count": null,
   "metadata": {
    "colab": {
     "base_uri": "https://localhost:8080/"
    },
    "id": "aBLl1UB9nsSK",
    "outputId": "d80d6d5d-44a1-41a5-dfc8-26b15901869f"
   },
   "outputs": [
    {
     "data": {
      "text/plain": [
       "h_link         object\n",
       "num_of_bed      int64\n",
       "num_of_bath     int64\n",
       "square          int64\n",
       "price           int64\n",
       "zestimate       int64\n",
       "year            int64\n",
       "month           int64\n",
       "date            int64\n",
       "town           object\n",
       "state          object\n",
       "zipcode         int64\n",
       "house_type     object\n",
       "year_built      int64\n",
       "heating        object\n",
       "cooling        object\n",
       "parking        object\n",
       "lot             int64\n",
       "dtype: object"
      ]
     },
     "execution_count": 36,
     "metadata": {},
     "output_type": "execute_result"
    }
   ],
   "source": [
    "df2.dtypes"
   ]
  },
  {
   "cell_type": "code",
   "execution_count": null,
   "metadata": {
    "id": "sh2eLJKlm2yI"
   },
   "outputs": [],
   "source": [
    "#seperate numerical variable and categorical variabl\n",
    "nvar_list = ['num_of_bed', 'num_of_bath', 'square',  'price', 'zestimate', 'year_built', 'lot' ]\n",
    "cvar_list = ['h_link', 'sold_type', 'month', 'date','year', 'address', 'town', 'state', 'zipcode',  'house_type', 'heating', 'cooling',  'parking' ]"
   ]
  },
  {
   "cell_type": "code",
   "execution_count": null,
   "metadata": {
    "id": "rqJ9aByHTKax"
   },
   "outputs": [],
   "source": [
    "import seaborn as sns"
   ]
  },
  {
   "cell_type": "code",
   "execution_count": null,
   "metadata": {
    "id": "b3IfIA2fUOH9"
   },
   "outputs": [],
   "source": [
    "df3 = df2.copy()\n",
    "df3['price'] = (df3['price']-df3['price'].mean())/df3['price'].std()"
   ]
  },
  {
   "cell_type": "code",
   "execution_count": null,
   "metadata": {
    "colab": {
     "base_uri": "https://localhost:8080/",
     "height": 441
    },
    "id": "6xrDnUlsTJOz",
    "outputId": "018024ab-46fc-4187-c51f-ff05e9cd6016"
   },
   "outputs": [
    {
     "data": {
      "image/png": "[encoded data removed]",
      "text/plain": [
       "<Figure size 432x432 with 3 Axes>"
      ]
     },
     "metadata": {
      "needs_background": "light"
     },
     "output_type": "display_data"
    }
   ],
   "source": [
    "sns.jointplot(data=df2, x=\"square\", y=\"price\",kind='scatter',ratio=1, color='green')\n",
    "# show the plot\n",
    "plt.show()"
   ]
  },
  {
   "cell_type": "markdown",
   "metadata": {
    "id": "aUm5gx-bFUwB"
   },
   "source": [
    "# Data Exploration\n",
    "Explore the relationships among independent varialbes and dependent variable"
   ]
  },
  {
   "cell_type": "code",
   "execution_count": null,
   "metadata": {
    "id": "M4WX8MR8ZkHZ"
   },
   "outputs": [],
   "source": [
    "\n",
    "# importing the required libraries\n",
    "import matplotlib.pyplot as plt"
   ]
  },
  {
   "cell_type": "code",
   "execution_count": null,
   "metadata": {
    "id": "68Ey9XGOYk4j"
   },
   "outputs": [],
   "source": [
    "df4 = df2.copy()\n",
    "varlist = ['num_of_bed', 'num_of_bath', 'price']\n",
    "df4 = df4[varlist]"
   ]
  },
  {
   "cell_type": "code",
   "execution_count": null,
   "metadata": {
    "colab": {
     "base_uri": "https://localhost:8080/",
     "height": 206
    },
    "id": "eJVW71XGY0tJ",
    "outputId": "9c6f7c76-5fca-4cba-e3bd-cdd2baffe253"
   },
   "outputs": [
    {
     "data": {
      "text/html": [
       "\n",
       "  <div id=\"df-5bf63228-aa8b-4487-9a3e-cbbfcfb3bdf2\">\n",
       "    <div class=\"colab-df-container\">\n",
       "      <div>\n",
       "<style scoped>\n",
       "    .dataframe tbody tr th:only-of-type {\n",
       "        vertical-align: middle;\n",
       "    }\n",
       "\n",
       "    .dataframe tbody tr th {\n",
       "        vertical-align: top;\n",
       "    }\n",
       "\n",
       "    .dataframe thead th {\n",
       "        text-align: right;\n",
       "    }\n",
       "</style>\n",
       "<table border=\"1\" class=\"dataframe\">\n",
       "  <thead>\n",
       "    <tr style=\"text-align: right;\">\n",
       "      <th></th>\n",
       "      <th>num_of_bed</th>\n",
       "      <th>num_of_bath</th>\n",
       "      <th>price</th>\n",
       "    </tr>\n",
       "  </thead>\n",
       "  <tbody>\n",
       "    <tr>\n",
       "      <th>0</th>\n",
       "      <td>6</td>\n",
       "      <td>3</td>\n",
       "      <td>1080000</td>\n",
       "    </tr>\n",
       "    <tr>\n",
       "      <th>1</th>\n",
       "      <td>3</td>\n",
       "      <td>2</td>\n",
       "      <td>555000</td>\n",
       "    </tr>\n",
       "    <tr>\n",
       "      <th>2</th>\n",
       "      <td>6</td>\n",
       "      <td>4</td>\n",
       "      <td>875000</td>\n",
       "    </tr>\n",
       "    <tr>\n",
       "      <th>3</th>\n",
       "      <td>5</td>\n",
       "      <td>3</td>\n",
       "      <td>1350000</td>\n",
       "    </tr>\n",
       "    <tr>\n",
       "      <th>4</th>\n",
       "      <td>0</td>\n",
       "      <td>1</td>\n",
       "      <td>560000</td>\n",
       "    </tr>\n",
       "  </tbody>\n",
       "</table>\n",
       "</div>\n",
       "      <button class=\"colab-df-convert\" onclick=\"convertToInteractive('df-5bf63228-aa8b-4487-9a3e-cbbfcfb3bdf2')\"\n",
       "              title=\"Convert this dataframe to an interactive table.\"\n",
       "              style=\"display:none;\">\n",
       "        \n",
       "  <svg xmlns=\"http://www.w3.org/2000/svg\" height=\"24px\"viewBox=\"0 0 24 24\"\n",
       "       width=\"24px\">\n",
       "    <path d=\"M0 0h24v24H0V0z\" fill=\"none\"/>\n",
       "    <path d=\"M18.56 5.44l.94 2.06.94-2.06 2.06-.94-2.06-.94-.94-2.06-.94 2.06-2.06.94zm-11 1L8.5 8.5l.94-2.06 2.06-.94-2.06-.94L8.5 2.5l-.94 2.06-2.06.94zm10 10l.94 2.06.94-2.06 2.06-.94-2.06-.94-.94-2.06-.94 2.06-2.06.94z\"/><path d=\"M17.41 7.96l-1.37-1.37c-.4-.4-.92-.59-1.43-.59-.52 0-1.04.2-1.43.59L10.3 9.45l-7.72 7.72c-.78.78-.78 2.05 0 2.83L4 21.41c.39.39.9.59 1.41.59.51 0 1.02-.2 1.41-.59l7.78-7.78 2.81-2.81c.8-.78.8-2.07 0-2.86zM5.41 20L4 18.59l7.72-7.72 1.47 1.35L5.41 20z\"/>\n",
       "  </svg>\n",
       "      </button>\n",
       "      \n",
       "  <style>\n",
       "    .colab-df-container {\n",
       "      display:flex;\n",
       "      flex-wrap:wrap;\n",
       "      gap: 12px;\n",
       "    }\n",
       "\n",
       "    .colab-df-convert {\n",
       "      background-color: #E8F0FE;\n",
       "      border: none;\n",
       "      border-radius: 50%;\n",
       "      cursor: pointer;\n",
       "      display: none;\n",
       "      fill: #1967D2;\n",
       "      height: 32px;\n",
       "      padding: 0 0 0 0;\n",
       "      width: 32px;\n",
       "    }\n",
       "\n",
       "    .colab-df-convert:hover {\n",
       "      background-color: #E2EBFA;\n",
       "      box-shadow: 0px 1px 2px rgba(60, 64, 67, 0.3), 0px 1px 3px 1px rgba(60, 64, 67, 0.15);\n",
       "      fill: #174EA6;\n",
       "    }\n",
       "\n",
       "    [theme=dark] .colab-df-convert {\n",
       "      background-color: #3B4455;\n",
       "      fill: #D2E3FC;\n",
       "    }\n",
       "\n",
       "    [theme=dark] .colab-df-convert:hover {\n",
       "      background-color: #434B5C;\n",
       "      box-shadow: 0px 1px 3px 1px rgba(0, 0, 0, 0.15);\n",
       "      filter: drop-shadow(0px 1px 2px rgba(0, 0, 0, 0.3));\n",
       "      fill: #FFFFFF;\n",
       "    }\n",
       "  </style>\n",
       "\n",
       "      <script>\n",
       "        const buttonEl =\n",
       "          document.querySelector('#df-5bf63228-aa8b-4487-9a3e-cbbfcfb3bdf2 button.colab-df-convert');\n",
       "        buttonEl.style.display =\n",
       "          google.colab.kernel.accessAllowed ? 'block' : 'none';\n",
       "\n",
       "        async function convertToInteractive(key) {\n",
       "          const element = document.querySelector('#df-5bf63228-aa8b-4487-9a3e-cbbfcfb3bdf2');\n",
       "          const dataTable =\n",
       "            await google.colab.kernel.invokeFunction('convertToInteractive',\n",
       "                                                     [key], {});\n",
       "          if (!dataTable) return;\n",
       "\n",
       "          const docLinkHtml = 'Like what you see? Visit the ' +\n",
       "            '<a target=\"_blank\" href=https://colab.research.google.com/notebooks/data_table.ipynb>data table notebook</a>'\n",
       "            + ' to learn more about interactive tables.';\n",
       "          element.innerHTML = '';\n",
       "          dataTable['output_type'] = 'display_data';\n",
       "          await google.colab.output.renderOutput(dataTable, element);\n",
       "          const docLink = document.createElement('div');\n",
       "          docLink.innerHTML = docLinkHtml;\n",
       "          element.appendChild(docLink);\n",
       "        }\n",
       "      </script>\n",
       "    </div>\n",
       "  </div>\n",
       "  "
      ],
      "text/plain": [
       "   num_of_bed  num_of_bath    price\n",
       "0           6            3  1080000\n",
       "1           3            2   555000\n",
       "2           6            4   875000\n",
       "3           5            3  1350000\n",
       "4           0            1   560000"
      ]
     },
     "execution_count": 43,
     "metadata": {},
     "output_type": "execute_result"
    }
   ],
   "source": [
    "df4.head()"
   ]
  },
  {
   "cell_type": "code",
   "execution_count": null,
   "metadata": {
    "colab": {
     "base_uri": "https://localhost:8080/",
     "height": 278
    },
    "id": "iGgnyXozY3dw",
    "outputId": "908c3620-9628-4a12-db06-d226b167bca2"
   },
   "outputs": [
    {
     "data": {
      "image/png": "[encoded data removed]",
      "text/plain": [
       "<Figure size 432x288 with 1 Axes>"
      ]
     },
     "metadata": {
      "needs_background": "light"
     },
     "output_type": "display_data"
    }
   ],
   "source": [
    "lines = df4['price'].plot.hist(color = 'deepskyblue')\n"
   ]
  },
  {
   "cell_type": "code",
   "execution_count": null,
   "metadata": {
    "id": "pO2nPJGubDr4"
   },
   "outputs": [],
   "source": [
    "df5 = df2.copy()"
   ]
  },
  {
   "cell_type": "code",
   "execution_count": null,
   "metadata": {
    "colab": {
     "base_uri": "https://localhost:8080/",
     "height": 535
    },
    "id": "ttunwZ-4e8zp",
    "outputId": "bbcc4b71-84df-488b-c401-4191f13e6c47"
   },
   "outputs": [
    {
     "data": {
      "image/png": "[encoded data removed]",
      "text/plain": [
       "<Figure size 720x576 with 1 Axes>"
      ]
     },
     "metadata": {
      "needs_background": "light"
     },
     "output_type": "display_data"
    }
   ],
   "source": [
    "import matplotlib.pyplot as plt\n",
    "plt.style.use('seaborn-deep')\n",
    "\n",
    "x = df5['cooling'].astype(str)\n",
    "#x1 = df5['num_of_bed']\n",
    "\n",
    "plt.figure(figsize=(10, 8))\n",
    "# plotting first histogram\n",
    "plt.hist(x, color = 'orangered', label = \"num_of_bath\")\n",
    "plt.title('Cooling')   \n",
    "plt.xticks(x, rotation=30) \n",
    "\n",
    "# plotting second histogram\n",
    "#plt.hist(x1, color = 'gold', label = ['num_of_bed'])\n",
    "\n",
    "# Showing the plot using plt.show()\n",
    "plt.show()\n"
   ]
  },
  {
   "cell_type": "code",
   "execution_count": null,
   "metadata": {
    "colab": {
     "base_uri": "https://localhost:8080/",
     "height": 527
    },
    "id": "Y98MCWTei5qi",
    "outputId": "b80e5f40-0e3b-4f41-b698-24e19460dacc"
   },
   "outputs": [
    {
     "data": {
      "image/png": "[encoded data removed]",
      "text/plain": [
       "<Figure size 720x576 with 1 Axes>"
      ]
     },
     "metadata": {
      "needs_background": "light"
     },
     "output_type": "display_data"
    }
   ],
   "source": [
    "x1 = df5['heating'].astype(str)\n",
    "# plotting first histogram\n",
    "plt.figure(figsize=(10, 8))\n",
    "\n",
    "plt.hist(x1, color = 'gold', label = ['num_of_bed'])\n",
    "\n",
    "plt.title('Heating')   \n",
    "plt.xticks(x1, rotation=30)   \n",
    "\n",
    "# Showing the plot using plt.show()\n",
    "plt.show()"
   ]
  },
  {
   "cell_type": "code",
   "execution_count": null,
   "metadata": {
    "colab": {
     "base_uri": "https://localhost:8080/",
     "height": 281
    },
    "id": "veaO2PiQjM-P",
    "outputId": "caf549e8-858c-4e7c-cb85-e4bbcc5fab73"
   },
   "outputs": [
    {
     "data": {
      "image/png": "[encoded data removed]",
      "text/plain": [
       "<Figure size 432x288 with 1 Axes>"
      ]
     },
     "metadata": {
      "needs_background": "light"
     },
     "output_type": "display_data"
    }
   ],
   "source": [
    "x1 = df5['square']\n",
    "\n",
    "# plotting first \n",
    "plt.hist(x1, color = 'palegreen', label = ['num_of_bed'])\n",
    "  \n",
    "# Showing the plot using plt.show()\n",
    "plt.title('square distribution')\n",
    "plt.show()\n"
   ]
  },
  {
   "cell_type": "code",
   "execution_count": null,
   "metadata": {
    "colab": {
     "base_uri": "https://localhost:8080/",
     "height": 308
    },
    "id": "p-V-MWd3Gcg8",
    "outputId": "c17a23e1-1e6e-476b-8071-8667124f7590"
   },
   "outputs": [
    {
     "data": {
      "text/plain": [
       "<matplotlib.axes._subplots.AxesSubplot at 0x7f887068d090>"
      ]
     },
     "execution_count": 48,
     "metadata": {},
     "output_type": "execute_result"
    },
    {
     "data": {
      "image/png": "[encoded data removed]",
      "text/plain": [
       "<Figure size 432x288 with 1 Axes>"
      ]
     },
     "metadata": {
      "needs_background": "light"
     },
     "output_type": "display_data"
    }
   ],
   "source": [
    "# Generate a scatterplot \n",
    "\n",
    "# Placeholder variables: x_var, y_var. \n",
    "# (MODIFY THIS PART OF THE CODE FOR A DIFFERENT PROBLEM)\n",
    "x_var = [ 'square']\n",
    "y_var = [ 'price']\n",
    "\n",
    "# Draw the scatterplot\n",
    "df2.plot.scatter(x=x_var, y=y_var, color = ['blue'], legend=False)"
   ]
  },
  {
   "cell_type": "code",
   "execution_count": null,
   "metadata": {
    "id": "eg3AruxVo6Np"
   },
   "outputs": [],
   "source": [
    "df3 = df2.copy()\n",
    "df3 = df3[nvar_list]"
   ]
  }
 ],
 "metadata": {
  "colab": {
   "provenance": []
  },
  "kernelspec": {
   "display_name": "Python 3 (ipykernel)",
   "language": "python",
   "name": "python3"
  },
  "language_info": {
   "codemirror_mode": {
    "name": "ipython",
    "version": 3
   },
   "file_extension": ".py",
   "mimetype": "text/x-python",
   "name": "python",
   "nbconvert_exporter": "python",
   "pygments_lexer": "ipython3",
   "version": "3.9.12"
  }
 },
 "nbformat": 4,
 "nbformat_minor": 1
}
