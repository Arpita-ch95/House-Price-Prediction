{
 "cells": [
  {
   "cell_type": "code",
   "execution_count": 1,
   "metadata": {
    "id": "9mVoBTTuBFJ2"
   },
   "outputs": [],
   "source": [
    "# import necessary python packages \n",
    "\n",
    "import pandas as pd\n",
    "import seaborn as sns\n",
    "import requests\n",
    "from bs4 import BeautifulSoup\n",
    "from datetime import date\n",
    "import csv\n",
    "import os\n",
    "import json\n",
    "import urllib.request\n",
    "from datetime import date\n",
    "import matplotlib.pyplot as plt"
   ]
  },
  {
   "cell_type": "markdown",
   "metadata": {
    "id": "RJ4ZOnZPER8P"
   },
   "source": [
    "# Part 1 Data Acqusition\n",
    "Read the data from the crawled csv file and display the dataframe general view"
   ]
  },
  {
   "cell_type": "code",
   "execution_count": null,
   "metadata": {
    "colab": {
     "base_uri": "https://localhost:8080/"
    },
    "id": "IFGVpEudBFM2",
    "outputId": "2657908a-ab9e-4941-f292-e33aa38e181a"
   },
   "outputs": [
    {
     "name": "stdout",
     "output_type": "stream",
     "text": [
      "                                              h_link  ...      lot\n",
      "0  https://www.zillow.com/homedetails/34-Joyce-Ln...  ...  10890.0\n",
      "1  https://www.zillow.com/homedetails/61-Cypress-...  ...  11326.0\n",
      "2  https://www.zillow.com/homedetails/69-Walter-A...  ...  11326.0\n",
      "3  https://www.zillow.com/homedetails/6-Park-Ct-P...  ...  11326.0\n",
      "4  https://www.zillow.com/homedetails/6-Lesley-Ln...  ...  11326.0\n",
      "\n",
      "[5 rows x 18 columns]\n",
      "['h_link' 'num_of_bed' 'num_of_bath' 'square' 'price' 'zestimate' 'year'\n",
      " 'month' 'date' 'town' 'state' 'zipcode' 'house_type' 'year_built'\n",
      " 'heating' 'cooling' 'parking' 'lot']\n",
      "(659, 18)\n"
     ]
    }
   ],
   "source": [
    "# Read data from a CSV file into a data frame\n",
    "df = pd.read_csv('zillow.csv')\n",
    "\n",
    "# Display the first five rows of the data frame to examine if it is an individual-level data set\n",
    "print(df.head())\n",
    "\n",
    "# Display the variable list\n",
    "print(df.columns.values)\n",
    "\n",
    "# Display the number of rows and the number of columns in the data set to confirm the portrait shape\n",
    "# The first element of the output is the number of rows and the second is the number of columns \n",
    "print(df.shape)"
   ]
  },
  {
   "cell_type": "code",
   "execution_count": null,
   "metadata": {
    "colab": {
     "base_uri": "https://localhost:8080/"
    },
    "id": "OCPo3F2LtlyR",
    "outputId": "0e844fd8-3b7d-4f99-ebd6-566e04d0055b"
   },
   "outputs": [
    {
     "data": {
      "text/plain": [
       "h_link          object\n",
       "num_of_bed     float64\n",
       "num_of_bath    float64\n",
       "square         float64\n",
       "price            int64\n",
       "zestimate      float64\n",
       "year             int64\n",
       "month            int64\n",
       "date             int64\n",
       "town            object\n",
       "state           object\n",
       "zipcode          int64\n",
       "house_type      object\n",
       "year_built     float64\n",
       "heating         object\n",
       "cooling         object\n",
       "parking         object\n",
       "lot            float64\n",
       "dtype: object"
      ]
     },
     "execution_count": 4,
     "metadata": {},
     "output_type": "execute_result"
    }
   ],
   "source": [
    "#show all the attributes' data types\n",
    "df.dtypes"
   ]
  },
  {
   "cell_type": "markdown",
   "metadata": {
    "id": "6GM7nYlXEv83"
   },
   "source": [
    "# Part 2 Data Cleaning\n",
    "Impute missing / NA values and convert the attribute' data type into properly ones"
   ]
  },
  {
   "cell_type": "code",
   "execution_count": null,
   "metadata": {
    "colab": {
     "base_uri": "https://localhost:8080/"
    },
    "id": "Vwx1peE5HfDz",
    "outputId": "1a5f4faa-3bf4-4acc-bdb9-ffad8f710621"
   },
   "outputs": [
    {
     "data": {
      "text/plain": [
       "h_link           0\n",
       "num_of_bed      29\n",
       "num_of_bath     12\n",
       "square         267\n",
       "price            0\n",
       "zestimate       58\n",
       "year             0\n",
       "month            0\n",
       "date             0\n",
       "town             0\n",
       "state            0\n",
       "zipcode          0\n",
       "house_type       0\n",
       "year_built       9\n",
       "heating         15\n",
       "cooling         41\n",
       "parking          0\n",
       "lot             20\n",
       "dtype: int64"
      ]
     },
     "execution_count": 5,
     "metadata": {},
     "output_type": "execute_result"
    }
   ],
   "source": [
    "#check total counts of missing values of each attribute\n",
    "df.isnull().sum()"
   ]
  },
  {
   "cell_type": "code",
   "execution_count": null,
   "metadata": {
    "colab": {
     "base_uri": "https://localhost:8080/",
     "height": 496
    },
    "id": "kevpMknuULEU",
    "outputId": "4eb7d066-666c-4a3a-db9b-e33a267325e7"
   },
   "outputs": [
    {
     "data": {
      "text/html": [
       "\n",
       "  <div id=\"df-e423ce05-c123-44ec-a9c2-bdd647aff611\">\n",
       "    <div class=\"colab-df-container\">\n",
       "      <div>\n",
       "<style scoped>\n",
       "    .dataframe tbody tr th:only-of-type {\n",
       "        vertical-align: middle;\n",
       "    }\n",
       "\n",
       "    .dataframe tbody tr th {\n",
       "        vertical-align: top;\n",
       "    }\n",
       "\n",
       "    .dataframe thead th {\n",
       "        text-align: right;\n",
       "    }\n",
       "</style>\n",
       "<table border=\"1\" class=\"dataframe\">\n",
       "  <thead>\n",
       "    <tr style=\"text-align: right;\">\n",
       "      <th></th>\n",
       "      <th>h_link</th>\n",
       "      <th>num_of_bed</th>\n",
       "      <th>num_of_bath</th>\n",
       "      <th>square</th>\n",
       "      <th>price</th>\n",
       "      <th>zestimate</th>\n",
       "      <th>year</th>\n",
       "      <th>month</th>\n",
       "      <th>date</th>\n",
       "      <th>town</th>\n",
       "      <th>state</th>\n",
       "      <th>zipcode</th>\n",
       "      <th>house_type</th>\n",
       "      <th>year_built</th>\n",
       "      <th>heating</th>\n",
       "      <th>cooling</th>\n",
       "      <th>parking</th>\n",
       "      <th>lot</th>\n",
       "    </tr>\n",
       "  </thead>\n",
       "  <tbody>\n",
       "    <tr>\n",
       "      <th>0</th>\n",
       "      <td>https://www.zillow.com/homedetails/34-Joyce-Ln...</td>\n",
       "      <td>6.0</td>\n",
       "      <td>3.0</td>\n",
       "      <td>3299.0</td>\n",
       "      <td>1080000</td>\n",
       "      <td>1096500.0</td>\n",
       "      <td>2021</td>\n",
       "      <td>10</td>\n",
       "      <td>13</td>\n",
       "      <td>Woodbury</td>\n",
       "      <td>NY</td>\n",
       "      <td>11797</td>\n",
       "      <td>Single Family Residence</td>\n",
       "      <td>1967.0</td>\n",
       "      <td>Natural Gas</td>\n",
       "      <td>Central Air</td>\n",
       "      <td>2 Attached Garage spaces</td>\n",
       "      <td>10890.0</td>\n",
       "    </tr>\n",
       "    <tr>\n",
       "      <th>1</th>\n",
       "      <td>https://www.zillow.com/homedetails/61-Cypress-...</td>\n",
       "      <td>3.0</td>\n",
       "      <td>2.0</td>\n",
       "      <td>NaN</td>\n",
       "      <td>555000</td>\n",
       "      <td>561800.0</td>\n",
       "      <td>2021</td>\n",
       "      <td>10</td>\n",
       "      <td>21</td>\n",
       "      <td>Bethpage</td>\n",
       "      <td>NY</td>\n",
       "      <td>11714</td>\n",
       "      <td>Single Family Residence</td>\n",
       "      <td>1956.0</td>\n",
       "      <td>Natural Gas</td>\n",
       "      <td>Central Air</td>\n",
       "      <td>1 Attached Garage space</td>\n",
       "      <td>11326.0</td>\n",
       "    </tr>\n",
       "    <tr>\n",
       "      <th>2</th>\n",
       "      <td>https://www.zillow.com/homedetails/69-Walter-A...</td>\n",
       "      <td>6.0</td>\n",
       "      <td>4.0</td>\n",
       "      <td>2663.0</td>\n",
       "      <td>875000</td>\n",
       "      <td>NaN</td>\n",
       "      <td>2021</td>\n",
       "      <td>11</td>\n",
       "      <td>15</td>\n",
       "      <td>Hicksville</td>\n",
       "      <td>NY</td>\n",
       "      <td>11801</td>\n",
       "      <td>Single Family Residence</td>\n",
       "      <td>1981.0</td>\n",
       "      <td>Natural Gas</td>\n",
       "      <td>Wall Unit(s)</td>\n",
       "      <td>1 Attached Garage space</td>\n",
       "      <td>11326.0</td>\n",
       "    </tr>\n",
       "    <tr>\n",
       "      <th>3</th>\n",
       "      <td>https://www.zillow.com/homedetails/6-Park-Ct-P...</td>\n",
       "      <td>5.0</td>\n",
       "      <td>3.0</td>\n",
       "      <td>3662.0</td>\n",
       "      <td>1350000</td>\n",
       "      <td>1360000.0</td>\n",
       "      <td>2021</td>\n",
       "      <td>11</td>\n",
       "      <td>10</td>\n",
       "      <td>Plainview</td>\n",
       "      <td>NY</td>\n",
       "      <td>11803</td>\n",
       "      <td>Single Family Residence</td>\n",
       "      <td>2021.0</td>\n",
       "      <td>Natural Gas</td>\n",
       "      <td>Central Air</td>\n",
       "      <td>2 Attached Garage spaces</td>\n",
       "      <td>11326.0</td>\n",
       "    </tr>\n",
       "    <tr>\n",
       "      <th>4</th>\n",
       "      <td>https://www.zillow.com/homedetails/6-Lesley-Ln...</td>\n",
       "      <td>NaN</td>\n",
       "      <td>1.5</td>\n",
       "      <td>1592.0</td>\n",
       "      <td>560000</td>\n",
       "      <td>641300.0</td>\n",
       "      <td>2021</td>\n",
       "      <td>11</td>\n",
       "      <td>9</td>\n",
       "      <td>Bethpage</td>\n",
       "      <td>NY</td>\n",
       "      <td>11804</td>\n",
       "      <td>SingleFamily</td>\n",
       "      <td>1957.0</td>\n",
       "      <td>Other</td>\n",
       "      <td>Central</td>\n",
       "      <td>Garage - Attached</td>\n",
       "      <td>11326.0</td>\n",
       "    </tr>\n",
       "  </tbody>\n",
       "</table>\n",
       "</div>\n",
       "      <button class=\"colab-df-convert\" onclick=\"convertToInteractive('df-e423ce05-c123-44ec-a9c2-bdd647aff611')\"\n",
       "              title=\"Convert this dataframe to an interactive table.\"\n",
       "              style=\"display:none;\">\n",
       "        \n",
       "  <svg xmlns=\"http://www.w3.org/2000/svg\" height=\"24px\"viewBox=\"0 0 24 24\"\n",
       "       width=\"24px\">\n",
       "    <path d=\"M0 0h24v24H0V0z\" fill=\"none\"/>\n",
       "    <path d=\"M18.56 5.44l.94 2.06.94-2.06 2.06-.94-2.06-.94-.94-2.06-.94 2.06-2.06.94zm-11 1L8.5 8.5l.94-2.06 2.06-.94-2.06-.94L8.5 2.5l-.94 2.06-2.06.94zm10 10l.94 2.06.94-2.06 2.06-.94-2.06-.94-.94-2.06-.94 2.06-2.06.94z\"/><path d=\"M17.41 7.96l-1.37-1.37c-.4-.4-.92-.59-1.43-.59-.52 0-1.04.2-1.43.59L10.3 9.45l-7.72 7.72c-.78.78-.78 2.05 0 2.83L4 21.41c.39.39.9.59 1.41.59.51 0 1.02-.2 1.41-.59l7.78-7.78 2.81-2.81c.8-.78.8-2.07 0-2.86zM5.41 20L4 18.59l7.72-7.72 1.47 1.35L5.41 20z\"/>\n",
       "  </svg>\n",
       "      </button>\n",
       "      \n",
       "  <style>\n",
       "    .colab-df-container {\n",
       "      display:flex;\n",
       "      flex-wrap:wrap;\n",
       "      gap: 12px;\n",
       "    }\n",
       "\n",
       "    .colab-df-convert {\n",
       "      background-color: #E8F0FE;\n",
       "      border: none;\n",
       "      border-radius: 50%;\n",
       "      cursor: pointer;\n",
       "      display: none;\n",
       "      fill: #1967D2;\n",
       "      height: 32px;\n",
       "      padding: 0 0 0 0;\n",
       "      width: 32px;\n",
       "    }\n",
       "\n",
       "    .colab-df-convert:hover {\n",
       "      background-color: #E2EBFA;\n",
       "      box-shadow: 0px 1px 2px rgba(60, 64, 67, 0.3), 0px 1px 3px 1px rgba(60, 64, 67, 0.15);\n",
       "      fill: #174EA6;\n",
       "    }\n",
       "\n",
       "    [theme=dark] .colab-df-convert {\n",
       "      background-color: #3B4455;\n",
       "      fill: #D2E3FC;\n",
       "    }\n",
       "\n",
       "    [theme=dark] .colab-df-convert:hover {\n",
       "      background-color: #434B5C;\n",
       "      box-shadow: 0px 1px 3px 1px rgba(0, 0, 0, 0.15);\n",
       "      filter: drop-shadow(0px 1px 2px rgba(0, 0, 0, 0.3));\n",
       "      fill: #FFFFFF;\n",
       "    }\n",
       "  </style>\n",
       "\n",
       "      <script>\n",
       "        const buttonEl =\n",
       "          document.querySelector('#df-e423ce05-c123-44ec-a9c2-bdd647aff611 button.colab-df-convert');\n",
       "        buttonEl.style.display =\n",
       "          google.colab.kernel.accessAllowed ? 'block' : 'none';\n",
       "\n",
       "        async function convertToInteractive(key) {\n",
       "          const element = document.querySelector('#df-e423ce05-c123-44ec-a9c2-bdd647aff611');\n",
       "          const dataTable =\n",
       "            await google.colab.kernel.invokeFunction('convertToInteractive',\n",
       "                                                     [key], {});\n",
       "          if (!dataTable) return;\n",
       "\n",
       "          const docLinkHtml = 'Like what you see? Visit the ' +\n",
       "            '<a target=\"_blank\" href=https://colab.research.google.com/notebooks/data_table.ipynb>data table notebook</a>'\n",
       "            + ' to learn more about interactive tables.';\n",
       "          element.innerHTML = '';\n",
       "          dataTable['output_type'] = 'display_data';\n",
       "          await google.colab.output.renderOutput(dataTable, element);\n",
       "          const docLink = document.createElement('div');\n",
       "          docLink.innerHTML = docLinkHtml;\n",
       "          element.appendChild(docLink);\n",
       "        }\n",
       "      </script>\n",
       "    </div>\n",
       "  </div>\n",
       "  "
      ],
      "text/plain": [
       "                                              h_link  ...      lot\n",
       "0  https://www.zillow.com/homedetails/34-Joyce-Ln...  ...  10890.0\n",
       "1  https://www.zillow.com/homedetails/61-Cypress-...  ...  11326.0\n",
       "2  https://www.zillow.com/homedetails/69-Walter-A...  ...  11326.0\n",
       "3  https://www.zillow.com/homedetails/6-Park-Ct-P...  ...  11326.0\n",
       "4  https://www.zillow.com/homedetails/6-Lesley-Ln...  ...  11326.0\n",
       "\n",
       "[5 rows x 18 columns]"
      ]
     },
     "execution_count": 6,
     "metadata": {},
     "output_type": "execute_result"
    }
   ],
   "source": [
    "# Drop the observations that contain missing dependent variable values\n",
    "# Placeholder variable is DV\n",
    "DV = 'price'\n",
    "df1 = df.copy()\n",
    "df1 = df1.dropna(subset=[DV])\n",
    "df1.head()"
   ]
  },
  {
   "cell_type": "code",
   "execution_count": null,
   "metadata": {
    "id": "Ev6_efjFhpcK"
   },
   "outputs": [],
   "source": [
    "df2 = df1.copy()"
   ]
  },
  {
   "cell_type": "code",
   "execution_count": null,
   "metadata": {
    "id": "mr8XgdJng8eb"
   },
   "outputs": [],
   "source": [
    "#df2['price'] = df2['price'].astype(str).str.replace('$', '').str.replace(',', '')\n",
    "#df2['price'] = pd.to_numeric(df2['price'], errors='coerce').fillna(df2['price'].median(), inplace=True)\n",
    "df2['price'] = df2['price'].astype('int64')"
   ]
  },
  {
   "cell_type": "code",
   "execution_count": null,
   "metadata": {
    "id": "pHmmjCaSg-hK"
   },
   "outputs": [],
   "source": [
    "#df2['year_built'] = df2['year_built'].str.replace('Build in ', '')\n",
    "df2['year_built'] = pd.to_numeric(df2['year_built'], errors='coerce').fillna(0).astype(int)"
   ]
  },
  {
   "cell_type": "code",
   "execution_count": null,
   "metadata": {
    "id": "1x4mog31ULHq"
   },
   "outputs": [],
   "source": [
    "#df2['square'] = df2['square'].str.replace(',', '').str.replace('sqft', '')\n",
    "df2['square'] = pd.to_numeric(df2['square'], errors='coerce').fillna(0).astype(int)"
   ]
  },
  {
   "cell_type": "code",
   "execution_count": null,
   "metadata": {
    "id": "XHAAcbJkj18M"
   },
   "outputs": [],
   "source": [
    "#df2['num_of_bed'] = df1['num_of_bed'].str.replace('bd', '')\n",
    "df2['num_of_bed'] = pd.to_numeric(df2['num_of_bed'], errors='coerce').fillna(0).astype(int)"
   ]
  },
  {
   "cell_type": "code",
   "execution_count": null,
   "metadata": {
    "id": "spgUQA_hj1_o"
   },
   "outputs": [],
   "source": [
    "#df2['num_of_bath'] = df1['num_of_bath'].str.replace('ba', '')\n",
    "df2['num_of_bath'] = pd.to_numeric(df2['num_of_bath'], errors='coerce').fillna(0).astype(int)"
   ]
  },
  {
   "cell_type": "code",
   "execution_count": null,
   "metadata": {
    "id": "7LjYyGd1j2C7"
   },
   "outputs": [],
   "source": [
    "#df2['lot'] = df1['lot'].str.replace(',', '').str.replace('sqft', '')\n",
    "df2['lot'] = pd.to_numeric(df2['lot'], errors='coerce').fillna(0).astype(int)"
   ]
  },
  {
   "cell_type": "code",
   "execution_count": null,
   "metadata": {
    "id": "2CnyQJldj2Gj"
   },
   "outputs": [],
   "source": [
    "#df2['zestimate'] = df2['zestimate'].str.replace('$', '').str.replace(',','')\n",
    "df2['zestimate'] = pd.to_numeric(df2['zestimate'], errors='coerce').fillna(0).astype(int)"
   ]
  },
  {
   "cell_type": "code",
   "execution_count": null,
   "metadata": {
    "colab": {
     "base_uri": "https://localhost:8080/",
     "height": 476
    },
    "id": "xHVG9sBphPui",
    "outputId": "2d8188a8-b28b-4389-a343-d8cb6eea55b9"
   },
   "outputs": [
    {
     "data": {
      "text/html": [
       "\n",
       "  <div id=\"df-f4f58927-0715-442b-933c-025e9a55abb3\">\n",
       "    <div class=\"colab-df-container\">\n",
       "      <div>\n",
       "<style scoped>\n",
       "    .dataframe tbody tr th:only-of-type {\n",
       "        vertical-align: middle;\n",
       "    }\n",
       "\n",
       "    .dataframe tbody tr th {\n",
       "        vertical-align: top;\n",
       "    }\n",
       "\n",
       "    .dataframe thead th {\n",
       "        text-align: right;\n",
       "    }\n",
       "</style>\n",
       "<table border=\"1\" class=\"dataframe\">\n",
       "  <thead>\n",
       "    <tr style=\"text-align: right;\">\n",
       "      <th></th>\n",
       "      <th>h_link</th>\n",
       "      <th>num_of_bed</th>\n",
       "      <th>num_of_bath</th>\n",
       "      <th>square</th>\n",
       "      <th>price</th>\n",
       "      <th>zestimate</th>\n",
       "      <th>year</th>\n",
       "      <th>month</th>\n",
       "      <th>date</th>\n",
       "      <th>town</th>\n",
       "      <th>state</th>\n",
       "      <th>zipcode</th>\n",
       "      <th>house_type</th>\n",
       "      <th>year_built</th>\n",
       "      <th>heating</th>\n",
       "      <th>cooling</th>\n",
       "      <th>parking</th>\n",
       "      <th>lot</th>\n",
       "    </tr>\n",
       "  </thead>\n",
       "  <tbody>\n",
       "    <tr>\n",
       "      <th>0</th>\n",
       "      <td>https://www.zillow.com/homedetails/34-Joyce-Ln...</td>\n",
       "      <td>6</td>\n",
       "      <td>3</td>\n",
       "      <td>3299</td>\n",
       "      <td>1080000</td>\n",
       "      <td>1096500</td>\n",
       "      <td>2021</td>\n",
       "      <td>10</td>\n",
       "      <td>13</td>\n",
       "      <td>Woodbury</td>\n",
       "      <td>NY</td>\n",
       "      <td>11797</td>\n",
       "      <td>Single Family Residence</td>\n",
       "      <td>1967</td>\n",
       "      <td>Natural Gas</td>\n",
       "      <td>Central Air</td>\n",
       "      <td>2 Attached Garage spaces</td>\n",
       "      <td>10890</td>\n",
       "    </tr>\n",
       "    <tr>\n",
       "      <th>1</th>\n",
       "      <td>https://www.zillow.com/homedetails/61-Cypress-...</td>\n",
       "      <td>3</td>\n",
       "      <td>2</td>\n",
       "      <td>0</td>\n",
       "      <td>555000</td>\n",
       "      <td>561800</td>\n",
       "      <td>2021</td>\n",
       "      <td>10</td>\n",
       "      <td>21</td>\n",
       "      <td>Bethpage</td>\n",
       "      <td>NY</td>\n",
       "      <td>11714</td>\n",
       "      <td>Single Family Residence</td>\n",
       "      <td>1956</td>\n",
       "      <td>Natural Gas</td>\n",
       "      <td>Central Air</td>\n",
       "      <td>1 Attached Garage space</td>\n",
       "      <td>11326</td>\n",
       "    </tr>\n",
       "    <tr>\n",
       "      <th>2</th>\n",
       "      <td>https://www.zillow.com/homedetails/69-Walter-A...</td>\n",
       "      <td>6</td>\n",
       "      <td>4</td>\n",
       "      <td>2663</td>\n",
       "      <td>875000</td>\n",
       "      <td>0</td>\n",
       "      <td>2021</td>\n",
       "      <td>11</td>\n",
       "      <td>15</td>\n",
       "      <td>Hicksville</td>\n",
       "      <td>NY</td>\n",
       "      <td>11801</td>\n",
       "      <td>Single Family Residence</td>\n",
       "      <td>1981</td>\n",
       "      <td>Natural Gas</td>\n",
       "      <td>Wall Unit(s)</td>\n",
       "      <td>1 Attached Garage space</td>\n",
       "      <td>11326</td>\n",
       "    </tr>\n",
       "    <tr>\n",
       "      <th>3</th>\n",
       "      <td>https://www.zillow.com/homedetails/6-Park-Ct-P...</td>\n",
       "      <td>5</td>\n",
       "      <td>3</td>\n",
       "      <td>3662</td>\n",
       "      <td>1350000</td>\n",
       "      <td>1360000</td>\n",
       "      <td>2021</td>\n",
       "      <td>11</td>\n",
       "      <td>10</td>\n",
       "      <td>Plainview</td>\n",
       "      <td>NY</td>\n",
       "      <td>11803</td>\n",
       "      <td>Single Family Residence</td>\n",
       "      <td>2021</td>\n",
       "      <td>Natural Gas</td>\n",
       "      <td>Central Air</td>\n",
       "      <td>2 Attached Garage spaces</td>\n",
       "      <td>11326</td>\n",
       "    </tr>\n",
       "    <tr>\n",
       "      <th>4</th>\n",
       "      <td>https://www.zillow.com/homedetails/6-Lesley-Ln...</td>\n",
       "      <td>0</td>\n",
       "      <td>1</td>\n",
       "      <td>1592</td>\n",
       "      <td>560000</td>\n",
       "      <td>641300</td>\n",
       "      <td>2021</td>\n",
       "      <td>11</td>\n",
       "      <td>9</td>\n",
       "      <td>Bethpage</td>\n",
       "      <td>NY</td>\n",
       "      <td>11804</td>\n",
       "      <td>SingleFamily</td>\n",
       "      <td>1957</td>\n",
       "      <td>Other</td>\n",
       "      <td>Central</td>\n",
       "      <td>Garage - Attached</td>\n",
       "      <td>11326</td>\n",
       "    </tr>\n",
       "  </tbody>\n",
       "</table>\n",
       "</div>\n",
       "      <button class=\"colab-df-convert\" onclick=\"convertToInteractive('df-f4f58927-0715-442b-933c-025e9a55abb3')\"\n",
       "              title=\"Convert this dataframe to an interactive table.\"\n",
       "              style=\"display:none;\">\n",
       "        \n",
       "  <svg xmlns=\"http://www.w3.org/2000/svg\" height=\"24px\"viewBox=\"0 0 24 24\"\n",
       "       width=\"24px\">\n",
       "    <path d=\"M0 0h24v24H0V0z\" fill=\"none\"/>\n",
       "    <path d=\"M18.56 5.44l.94 2.06.94-2.06 2.06-.94-2.06-.94-.94-2.06-.94 2.06-2.06.94zm-11 1L8.5 8.5l.94-2.06 2.06-.94-2.06-.94L8.5 2.5l-.94 2.06-2.06.94zm10 10l.94 2.06.94-2.06 2.06-.94-2.06-.94-.94-2.06-.94 2.06-2.06.94z\"/><path d=\"M17.41 7.96l-1.37-1.37c-.4-.4-.92-.59-1.43-.59-.52 0-1.04.2-1.43.59L10.3 9.45l-7.72 7.72c-.78.78-.78 2.05 0 2.83L4 21.41c.39.39.9.59 1.41.59.51 0 1.02-.2 1.41-.59l7.78-7.78 2.81-2.81c.8-.78.8-2.07 0-2.86zM5.41 20L4 18.59l7.72-7.72 1.47 1.35L5.41 20z\"/>\n",
       "  </svg>\n",
       "      </button>\n",
       "      \n",
       "  <style>\n",
       "    .colab-df-container {\n",
       "      display:flex;\n",
       "      flex-wrap:wrap;\n",
       "      gap: 12px;\n",
       "    }\n",
       "\n",
       "    .colab-df-convert {\n",
       "      background-color: #E8F0FE;\n",
       "      border: none;\n",
       "      border-radius: 50%;\n",
       "      cursor: pointer;\n",
       "      display: none;\n",
       "      fill: #1967D2;\n",
       "      height: 32px;\n",
       "      padding: 0 0 0 0;\n",
       "      width: 32px;\n",
       "    }\n",
       "\n",
       "    .colab-df-convert:hover {\n",
       "      background-color: #E2EBFA;\n",
       "      box-shadow: 0px 1px 2px rgba(60, 64, 67, 0.3), 0px 1px 3px 1px rgba(60, 64, 67, 0.15);\n",
       "      fill: #174EA6;\n",
       "    }\n",
       "\n",
       "    [theme=dark] .colab-df-convert {\n",
       "      background-color: #3B4455;\n",
       "      fill: #D2E3FC;\n",
       "    }\n",
       "\n",
       "    [theme=dark] .colab-df-convert:hover {\n",
       "      background-color: #434B5C;\n",
       "      box-shadow: 0px 1px 3px 1px rgba(0, 0, 0, 0.15);\n",
       "      filter: drop-shadow(0px 1px 2px rgba(0, 0, 0, 0.3));\n",
       "      fill: #FFFFFF;\n",
       "    }\n",
       "  </style>\n",
       "\n",
       "      <script>\n",
       "        const buttonEl =\n",
       "          document.querySelector('#df-f4f58927-0715-442b-933c-025e9a55abb3 button.colab-df-convert');\n",
       "        buttonEl.style.display =\n",
       "          google.colab.kernel.accessAllowed ? 'block' : 'none';\n",
       "\n",
       "        async function convertToInteractive(key) {\n",
       "          const element = document.querySelector('#df-f4f58927-0715-442b-933c-025e9a55abb3');\n",
       "          const dataTable =\n",
       "            await google.colab.kernel.invokeFunction('convertToInteractive',\n",
       "                                                     [key], {});\n",
       "          if (!dataTable) return;\n",
       "\n",
       "          const docLinkHtml = 'Like what you see? Visit the ' +\n",
       "            '<a target=\"_blank\" href=https://colab.research.google.com/notebooks/data_table.ipynb>data table notebook</a>'\n",
       "            + ' to learn more about interactive tables.';\n",
       "          element.innerHTML = '';\n",
       "          dataTable['output_type'] = 'display_data';\n",
       "          await google.colab.output.renderOutput(dataTable, element);\n",
       "          const docLink = document.createElement('div');\n",
       "          docLink.innerHTML = docLinkHtml;\n",
       "          element.appendChild(docLink);\n",
       "        }\n",
       "      </script>\n",
       "    </div>\n",
       "  </div>\n",
       "  "
      ],
      "text/plain": [
       "                                              h_link  ...    lot\n",
       "0  https://www.zillow.com/homedetails/34-Joyce-Ln...  ...  10890\n",
       "1  https://www.zillow.com/homedetails/61-Cypress-...  ...  11326\n",
       "2  https://www.zillow.com/homedetails/69-Walter-A...  ...  11326\n",
       "3  https://www.zillow.com/homedetails/6-Park-Ct-P...  ...  11326\n",
       "4  https://www.zillow.com/homedetails/6-Lesley-Ln...  ...  11326\n",
       "\n",
       "[5 rows x 18 columns]"
      ]
     },
     "execution_count": 17,
     "metadata": {},
     "output_type": "execute_result"
    }
   ],
   "source": [
    "df2.head()"
   ]
  },
  {
   "cell_type": "code",
   "execution_count": null,
   "metadata": {
    "colab": {
     "base_uri": "https://localhost:8080/"
    },
    "id": "aBLl1UB9nsSK",
    "outputId": "f3ec15b8-5e9f-4013-cae8-4c2b947c760c"
   },
   "outputs": [
    {
     "data": {
      "text/plain": [
       "h_link         object\n",
       "num_of_bed      int64\n",
       "num_of_bath     int64\n",
       "square          int64\n",
       "price           int64\n",
       "zestimate       int64\n",
       "year            int64\n",
       "month           int64\n",
       "date            int64\n",
       "town           object\n",
       "state          object\n",
       "zipcode         int64\n",
       "house_type     object\n",
       "year_built      int64\n",
       "heating        object\n",
       "cooling        object\n",
       "parking        object\n",
       "lot             int64\n",
       "dtype: object"
      ]
     },
     "execution_count": 18,
     "metadata": {},
     "output_type": "execute_result"
    }
   ],
   "source": [
    "df2.dtypes"
   ]
  },
  {
   "cell_type": "code",
   "execution_count": null,
   "metadata": {
    "id": "sh2eLJKlm2yI"
   },
   "outputs": [],
   "source": [
    "#seperate numerical variable and categorical variabl\n",
    "nvar_list = ['num_of_bed', 'num_of_bath', 'square', 'zestimate', 'year_built', 'lot', 'price']\n",
    "#cvar_list = ['h_link', 'sold_type', 'month', 'date','year', 'address', 'town', 'state', 'zipcode',  'house_type', 'heating', 'cooling',  'parking' ]\n"
   ]
  },
  {
   "cell_type": "markdown",
   "metadata": {
    "id": "aUm5gx-bFUwB"
   },
   "source": [
    "# Part 3 Data Exploration\n",
    "Explore the relationships among independent varialbes and dependent variable"
   ]
  },
  {
   "cell_type": "code",
   "execution_count": null,
   "metadata": {
    "colab": {
     "base_uri": "https://localhost:8080/",
     "height": 308
    },
    "id": "anArar-6BFP0",
    "outputId": "e5145f25-16a9-48d7-a5d8-b2cc1bc35cd8"
   },
   "outputs": [
    {
     "data": {
      "text/plain": [
       "<matplotlib.axes._subplots.AxesSubplot at 0x7f1f7cb15150>"
      ]
     },
     "execution_count": 20,
     "metadata": {},
     "output_type": "execute_result"
    },
    {
     "data": {
      "image/png": "[encoded data removed]",
      "text/plain": [
       "<Figure size 432x288 with 1 Axes>"
      ]
     },
     "metadata": {
      "needs_background": "light"
     },
     "output_type": "display_data"
    }
   ],
   "source": [
    "# Generate a scatterplot based on KM and Price\n",
    "\n",
    "# A good programing practice: \n",
    "# We use a set of placeholder variables with pre-determined variable names (e.g., x_var, y_var) to carry problem-specific (or dataset-specific) parameter values (e.g., KM and Price). \n",
    "# Then we use those placeholder variables as the argument values for a method or an operation. \n",
    "# By doing this, later, we just need to change the values of those placeholder variables when we have a different problem (or dataset). \n",
    "\n",
    "# Placeholder variables: x_var, y_var. \n",
    "# (MODIFY THIS PART OF THE CODE FOR A DIFFERENT PROBLEM)\n",
    "x_var = [ 'zestimate']\n",
    "y_var = [ 'price']\n",
    "\n",
    "# Draw the scatterplot\n",
    "df2.plot.scatter(x=x_var, y=y_var, color = ['red'], legend=False)"
   ]
  },
  {
   "cell_type": "code",
   "execution_count": null,
   "metadata": {
    "id": "eg3AruxVo6Np"
   },
   "outputs": [],
   "source": [
    "df3 = df2.copy()\n",
    "df3 = df3[nvar_list]"
   ]
  },
  {
   "cell_type": "code",
   "execution_count": null,
   "metadata": {
    "colab": {
     "base_uri": "https://localhost:8080/",
     "height": 524
    },
    "id": "Ut5snAeYBFSW",
    "outputId": "545c4260-e946-4f0e-bc5d-b5d7974621e8"
   },
   "outputs": [
    {
     "name": "stdout",
     "output_type": "stream",
     "text": [
      "             num_of_bed  num_of_bath    square  ...  year_built       lot     price\n",
      "num_of_bed     1.000000     0.649503  0.367229  ...    0.364596  0.278794  0.461923\n",
      "num_of_bath    0.649503     1.000000  0.456109  ...    0.332559  0.406063  0.598618\n",
      "square         0.367229     0.456109  1.000000  ...    0.158995  0.415581  0.567370\n",
      "zestimate      0.300562     0.415384  0.382397  ...    0.108764  0.331558  0.455897\n",
      "year_built     0.364596     0.332559  0.158995  ...    1.000000 -0.066472 -0.120319\n",
      "lot            0.278794     0.406063  0.415581  ...   -0.066472  1.000000  0.623178\n",
      "price          0.461923     0.598618  0.567370  ...   -0.120319  0.623178  1.000000\n",
      "\n",
      "[7 rows x 7 columns]\n"
     ]
    },
    {
     "data": {
      "text/plain": [
       "<matplotlib.axes._subplots.AxesSubplot at 0x7f1f7ca5f250>"
      ]
     },
     "execution_count": 22,
     "metadata": {},
     "output_type": "execute_result"
    },
    {
     "data": {
      "image/png": "[encoded data removed]",
      "text/plain": [
       "<Figure size 432x288 with 2 Axes>"
      ]
     },
     "metadata": {
      "needs_background": "light"
     },
     "output_type": "display_data"
    }
   ],
   "source": [
    "# Draw a heat map for all the numerical variables in the data frame\n",
    "\n",
    "# Placeholder variables: df4heatmaps\n",
    "df4heatmaps = df3\n",
    "\n",
    "# Compute the correlation matrix \n",
    "corr = df4heatmaps.corr()\n",
    "# Print the correlation matrix\n",
    "print(corr)\n",
    "# Draw the heatmap\n",
    "sns.heatmap(corr, xticklabels=corr.columns, yticklabels=corr.columns)"
   ]
  },
  {
   "cell_type": "markdown",
   "metadata": {
    "id": "oHtG8RysFzqp"
   },
   "source": [
    "# Part 4 Association Transformation"
   ]
  },
  {
   "cell_type": "code",
   "execution_count": null,
   "metadata": {
    "id": "_NFQPi79qLdR"
   },
   "outputs": [],
   "source": [
    "# Set the datatype for the variables in the cvar_list to be categorical in Python\n",
    "# Set the datatype for the variables in the nvar_list to be numerical in Python \n",
    "\n",
    "#drop variables \n",
    "drop_list = ['h_link',  'zipcode',  'month', 'date','year', 'state']\n",
    "df4 = df2.copy()\n",
    "df4 = df4.drop(columns = drop_list)"
   ]
  },
  {
   "cell_type": "code",
   "execution_count": null,
   "metadata": {
    "id": "ftJSsQXF7IK4"
   },
   "outputs": [],
   "source": [
    "import numpy as np\n",
    "df5 = df4.copy()"
   ]
  },
  {
   "cell_type": "code",
   "execution_count": null,
   "metadata": {
    "id": "ykVPKCeRl5z5"
   },
   "outputs": [],
   "source": [
    "cvar_list = [ 'house_type', 'town', 'heating', 'cooling',  'parking']\n",
    "df5 = df4[cvar_list].copy()\n"
   ]
  },
  {
   "cell_type": "code",
   "execution_count": null,
   "metadata": {
    "id": "UHKzhfMYqNky"
   },
   "outputs": [],
   "source": [
    "#define conditions\n",
    "conditions = [df4['price'] > df4['zestimate'], \n",
    "              df4['price'] < df4['zestimate']]\n",
    "\n",
    "#define choices\n",
    "choices = ['1', '0']\n",
    "\n",
    "#create new column in DataFrame that displays results of comparisons\n",
    "df5['class'] = np.select(conditions, choices, default='0')\n",
    "df5['class'] = df5['class'].astype('category')"
   ]
  },
  {
   "cell_type": "code",
   "execution_count": null,
   "metadata": {
    "id": "a2vx-Ur97z0R"
   },
   "outputs": [],
   "source": [
    "# Convert the categorical variables into dummies (Step 1 of dummy coding)\n",
    "# prefix_sep is the sympol used to create the dummy variable names.\n",
    "df6 = df5.copy()\n",
    "df6 = pd.get_dummies(df6, prefix_sep='_')"
   ]
  },
  {
   "cell_type": "code",
   "execution_count": null,
   "metadata": {
    "id": "UZjtVr7M7m9q"
   },
   "outputs": [],
   "source": [
    "df6 = df6.astype('category')\n"
   ]
  },
  {
   "cell_type": "code",
   "execution_count": null,
   "metadata": {
    "colab": {
     "base_uri": "https://localhost:8080/"
    },
    "id": "pYS-YWxloDT4",
    "outputId": "d6a23b3b-758a-4fbf-8fed-ea48a0259768"
   },
   "outputs": [
    {
     "data": {
      "text/plain": [
       "house_type_Multi Family               category\n",
       "house_type_MultiFamily                category\n",
       "house_type_Single Family Residence    category\n",
       "house_type_SingleFamily               category\n",
       "house_type_Townhouse                  category\n",
       "house_type_Unknown                    category\n",
       "town_Bethpage                         category\n",
       "town_Hicksville                       category\n",
       "town_Huntington                       category\n",
       "town_Jericho                          category\n",
       "town_Melville                         category\n",
       "town_Plainview                        category\n",
       "town_Syosset                          category\n",
       "town_Woodbury                         category\n",
       "heating_Baseboard                     category\n",
       "heating_Electric                      category\n",
       "heating_Forced air                    category\n",
       "heating_Hot Water                     category\n",
       "heating_Natural Gas                   category\n",
       "heating_Oil                           category\n",
       "heating_Other                         category\n",
       "heating_Propane                       category\n",
       "cooling_Central                       category\n",
       "cooling_Central Air                   category\n",
       "cooling_Ductless                      category\n",
       "cooling_None                          category\n",
       "cooling_Other                         category\n",
       "cooling_Wall                          category\n",
       "cooling_Wall Unit(s)                  category\n",
       "cooling_Window Unit(s)                category\n",
       "cooling_Zoned                         category\n",
       "parking_0 spaces                      category\n",
       "parking_1 Attached Garage space       category\n",
       "parking_1 Garage space                category\n",
       "parking_1 Parking space               category\n",
       "parking_2 Attached Garage spaces      category\n",
       "parking_2 Garage spaces               category\n",
       "parking_2 Parking spaces              category\n",
       "parking_3 Attached Garage spaces      category\n",
       "parking_3 Garage spaces               category\n",
       "parking_3 Parking spaces              category\n",
       "parking_4 Attached Garage spaces      category\n",
       "parking_4 Garage spaces               category\n",
       "parking_4 Parking spaces              category\n",
       "parking_5 Attached Garage spaces      category\n",
       "parking_Driveway                      category\n",
       "parking_Garage                        category\n",
       "parking_Garage - Attached             category\n",
       "parking_Garage - Detached             category\n",
       "parking_None                          category\n",
       "parking_Private                       category\n",
       "parking_Shared Driveway               category\n",
       "class_0                               category\n",
       "class_1                               category\n",
       "dtype: object"
      ]
     },
     "execution_count": 30,
     "metadata": {},
     "output_type": "execute_result"
    }
   ],
   "source": [
    "df6.dtypes"
   ]
  },
  {
   "cell_type": "code",
   "execution_count": null,
   "metadata": {
    "id": "znA1wWET8HEC"
   },
   "outputs": [],
   "source": [
    "df7 = df6.copy()"
   ]
  },
  {
   "cell_type": "code",
   "execution_count": null,
   "metadata": {
    "colab": {
     "base_uri": "https://localhost:8080/"
    },
    "id": "60dm3BGhqfEz",
    "outputId": "62976603-e928-4afc-fda7-d3d423e20b5c"
   },
   "outputs": [
    {
     "name": "stdout",
     "output_type": "stream",
     "text": [
      "['house_type_Multi Family' 'house_type_MultiFamily'\n",
      " 'house_type_Single Family Residence' 'house_type_SingleFamily'\n",
      " 'house_type_Townhouse' 'house_type_Unknown' 'town_Bethpage'\n",
      " 'town_Hicksville' 'town_Huntington' 'town_Jericho' 'town_Melville'\n",
      " 'town_Plainview' 'town_Syosset' 'town_Woodbury' 'heating_Baseboard'\n",
      " 'heating_Electric' 'heating_Forced air' 'heating_Hot Water'\n",
      " 'heating_Natural Gas' 'heating_Oil' 'heating_Other' 'heating_Propane'\n",
      " 'cooling_Central' 'cooling_Central Air' 'cooling_Ductless' 'cooling_None'\n",
      " 'cooling_Other' 'cooling_Wall' 'cooling_Wall Unit(s)'\n",
      " 'cooling_Window Unit(s)' 'cooling_Zoned' 'parking_0 spaces'\n",
      " 'parking_1 Attached Garage space' 'parking_1 Garage space'\n",
      " 'parking_1 Parking space' 'parking_2 Attached Garage spaces'\n",
      " 'parking_2 Garage spaces' 'parking_2 Parking spaces'\n",
      " 'parking_3 Attached Garage spaces' 'parking_3 Garage spaces'\n",
      " 'parking_3 Parking spaces' 'parking_4 Attached Garage spaces'\n",
      " 'parking_4 Garage spaces' 'parking_4 Parking spaces'\n",
      " 'parking_5 Attached Garage spaces' 'parking_Driveway' 'parking_Garage'\n",
      " 'parking_Garage - Attached' 'parking_Garage - Detached' 'parking_None'\n",
      " 'parking_Private' 'parking_Shared Driveway' 'class_0' 'class_1']\n"
     ]
    }
   ],
   "source": [
    "# Get the remaining variable list after the variable transformation\n",
    "print(df7.columns.values)"
   ]
  },
  {
   "cell_type": "code",
   "execution_count": null,
   "metadata": {
    "id": "ismzZ7QlqW6A"
   },
   "outputs": [],
   "source": [
    "# Remove the redundant dummies (Step 2 of dummy coding)\n",
    "# Placeholder variable: rdummies\n",
    "rdummies = ['house_type_Multi Family', 'heating_Baseboard', 'cooling_Central', 'parking_0 spaces', 'class_1']\n",
    "df8 = df7.copy()\n",
    "df8 = df7.drop(columns=rdummies)"
   ]
  },
  {
   "cell_type": "code",
   "execution_count": null,
   "metadata": {
    "id": "kQb_iFCwNrta"
   },
   "outputs": [],
   "source": [
    "df8 = df8.astype('int64')"
   ]
  },
  {
   "cell_type": "code",
   "execution_count": null,
   "metadata": {
    "colab": {
     "base_uri": "https://localhost:8080/",
     "height": 411
    },
    "id": "5mS-sKmzKbdH",
    "outputId": "cfa31f84-07b7-484f-edcc-e5bb70d4106f"
   },
   "outputs": [
    {
     "name": "stdout",
     "output_type": "stream",
     "text": [
      "[0.00012739 0.01787399 0.00866445 0.00275989 0.02794763 0.03595518\n",
      " 0.06143666 0.00260815 0.05697379 0.00612259 0.03969938 0.05023773\n",
      " 0.01015141 0.00093824 0.00584796 0.00525791 0.05931929 0.04790895\n",
      " 0.03716169 0.00049234 0.0940992  0.06832243 0.02814789 0.0004003\n",
      " 0.00163711 0.04995784 0.01147824 0.00243967 0.05033848 0.02620046\n",
      " 0.00194498 0.0423461  0.01174283 0.00081978 0.00086032 0.02311261\n",
      " 0.00522446 0.00598976 0.00388213 0.0084262  0.0003114  0.00056027\n",
      " 0.00287544 0.00421596 0.00137052 0.00058825 0.07511824 0.00010451]\n"
     ]
    },
    {
     "data": {
      "image/png": "[encoded data removed]",
      "text/plain": [
       "<Figure size 432x288 with 1 Axes>"
      ]
     },
     "metadata": {
      "needs_background": "light"
     },
     "output_type": "display_data"
    }
   ],
   "source": [
    "\n",
    "DV = 'class_0'\n",
    "y = df8[DV]\n",
    "X = df8.drop(columns=[DV])\n",
    "from sklearn.ensemble import ExtraTreesClassifier\n",
    "import matplotlib.pyplot as plt\n",
    "model = ExtraTreesClassifier()\n",
    "\n",
    "model.fit(X,y)\n",
    "print(model.feature_importances_) #use inbuilt class feature_importances of tree based classifiers\n",
    "#plot graph of feature importances for better visualization\n",
    "feat_importances = pd.Series(model.feature_importances_, index=X.columns)\n",
    "feat_importances.nlargest(15).plot(kind='barh', color = 'red')\n",
    "plt.show()"
   ]
  },
  {
   "cell_type": "code",
   "execution_count": null,
   "metadata": {
    "colab": {
     "base_uri": "https://localhost:8080/",
     "height": 1000
    },
    "id": "2LZqKbiYRpIo",
    "outputId": "9681bdf8-c0ad-4ec1-91f4-2f8b287deef9"
   },
   "outputs": [
    {
     "name": "stdout",
     "output_type": "stream",
     "text": [
      "                                    house_type_MultiFamily  ...   class_0\n",
      "house_type_MultiFamily                            1.000000  ...  0.023715\n",
      "house_type_Single Family Residence               -0.099303  ... -0.007730\n",
      "house_type_SingleFamily                          -0.013115  ...  0.125492\n",
      "house_type_Townhouse                             -0.002636  ... -0.009630\n",
      "house_type_Unknown                               -0.003409  ... -0.143734\n",
      "town_Bethpage                                    -0.012111  ... -0.076404\n",
      "town_Hicksville                                   0.091099  ... -0.136527\n",
      "town_Huntington                                  -0.004039  ... -0.003642\n",
      "town_Jericho                                     -0.005079  ... -0.187500\n",
      "town_Melville                                    -0.004039  ...  0.029695\n",
      "town_Plainview                                   -0.039162  ...  0.071121\n",
      "town_Syosset                                     -0.016489  ...  0.142987\n",
      "town_Woodbury                                    -0.010300  ...  0.022343\n",
      "heating_Electric                                 -0.002151  ...  0.033564\n",
      "heating_Forced air                               -0.002636  ...  0.041138\n",
      "heating_Hot Water                                -0.001520  ... -0.064084\n",
      "heating_Natural Gas                              -0.047836  ... -0.216606\n",
      "heating_Oil                                      -0.023989  ...  0.175259\n",
      "heating_Other                                     0.131821  ...  0.167336\n",
      "heating_Propane                                  -0.001520  ...  0.023715\n",
      "cooling_Central Air                              -0.045215  ...  0.021423\n",
      "cooling_Ductless                                 -0.009233  ... -0.175962\n",
      "cooling_None                                     -0.007245  ... -0.134271\n",
      "cooling_Other                                    -0.003046  ...  0.047539\n",
      "cooling_Wall                                     -0.002151  ...  0.033564\n",
      "cooling_Wall Unit(s)                             -0.016876  ...  0.150843\n",
      "cooling_Window Unit(s)                           -0.005530  ...  0.061720\n",
      "cooling_Zoned                                    -0.003046  ...  0.047539\n",
      "parking_1 Attached Garage space                  -0.034031  ...  0.075746\n",
      "parking_1 Garage space                           -0.011647  ...  0.032219\n",
      "parking_1 Parking space                          -0.004322  ...  0.036228\n",
      "parking_2 Attached Garage spaces                 -0.019326  ... -0.059140\n",
      "parking_2 Garage spaces                          -0.003046  ... -0.040461\n",
      "parking_2 Parking spaces                         -0.003409  ...  0.053190\n",
      "parking_3 Attached Garage spaces                 -0.003409  ...  0.013806\n",
      "parking_3 Garage spaces                          -0.005079  ... -0.187500\n",
      "parking_3 Parking spaces                         -0.002151  ...  0.033564\n",
      "parking_4 Attached Garage spaces                 -0.002636  ...  0.041138\n",
      "parking_4 Garage spaces                          -0.004839  ...  0.075512\n",
      "parking_4 Parking spaces                         -0.002151  ... -0.028567\n",
      "parking_5 Attached Garage spaces                 -0.001520  ...  0.023715\n",
      "parking_Driveway                                 -0.001520  ...  0.023715\n",
      "parking_Garage                                   -0.005950  ...  0.092841\n",
      "parking_Garage - Attached                        -0.006150  ...  0.095960\n",
      "parking_Garage - Detached                        -0.003737  ...  0.022331\n",
      "parking_None                                     -0.002151  ...  0.033564\n",
      "parking_Private                                  -0.014388  ... -0.122697\n",
      "parking_Shared Driveway                          -0.001520  ...  0.023715\n",
      "class_0                                           0.023715  ...  1.000000\n",
      "\n",
      "[49 rows x 49 columns]\n"
     ]
    },
    {
     "data": {
      "text/plain": [
       "<matplotlib.axes._subplots.AxesSubplot at 0x7f1f7595ba90>"
      ]
     },
     "execution_count": 37,
     "metadata": {},
     "output_type": "execute_result"
    },
    {
     "data": {
      "image/png": "[encoded data removed]",
      "text/plain": [
       "<Figure size 432x288 with 2 Axes>"
      ]
     },
     "metadata": {
      "needs_background": "light"
     },
     "output_type": "display_data"
    }
   ],
   "source": [
    "# Draw a heat map for all the numerical variables in the data frame\n",
    "\n",
    "# Placeholder variables: df4heatmaps\n",
    "df4heatmaps = df8\n",
    "\n",
    "# Compute the correlation matrix \n",
    "corr = df4heatmaps.corr()\n",
    "# Print the correlation matrix\n",
    "print(corr)\n",
    "# Draw the heatmap\n",
    "sns.heatmap(corr, xticklabels=corr.columns, yticklabels=corr.columns)"
   ]
  }
 ],
 "metadata": {
  "colab": {
   "provenance": []
  },
  "kernelspec": {
   "display_name": "Python 3 (ipykernel)",
   "language": "python",
   "name": "python3"
  },
  "language_info": {
   "codemirror_mode": {
    "name": "ipython",
    "version": 3
   },
   "file_extension": ".py",
   "mimetype": "text/x-python",
   "name": "python",
   "nbconvert_exporter": "python",
   "pygments_lexer": "ipython3",
   "version": "3.9.12"
  }
 },
 "nbformat": 4,
 "nbformat_minor": 1
}
